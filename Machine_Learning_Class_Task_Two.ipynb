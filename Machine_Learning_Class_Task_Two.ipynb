{
  "nbformat": 4,
  "nbformat_minor": 0,
  "metadata": {
    "colab": {
      "name": "Machine Learning Class Task Two.ipynb",
      "provenance": [],
      "toc_visible": true,
      "authorship_tag": "ABX9TyN88ZOFgVJXaUNjiQm6BjQp",
      "include_colab_link": true
    },
    "kernelspec": {
      "name": "python3",
      "display_name": "Python 3"
    },
    "language_info": {
      "name": "python"
    }
  },
  "cells": [
    {
      "cell_type": "markdown",
      "metadata": {
        "id": "view-in-github",
        "colab_type": "text"
      },
      "source": [
        "<a href=\"https://colab.research.google.com/github/KaniaruIvy/Machine-Learning-Group-Assignments/blob/main/Machine_Learning_Class_Task_Two.ipynb\" target=\"_parent\"><img src=\"https://colab.research.google.com/assets/colab-badge.svg\" alt=\"Open In Colab\"/></a>"
      ]
    },
    {
      "cell_type": "markdown",
      "source": [
        "# You are provided with the Housing Pricing dataset.\n",
        "\n",
        "1. Prepare a dataset description file\n",
        "2. Prepare the dataset for training\n",
        "3. Fill in Missing Values\n",
        "4. Encode the dataset\n",
        "5. Standardize the dataset\n",
        "6. Perfom feature extraction using PCA\n",
        "7. Perform feature selection using L1\n",
        "8. Train a regression model using PCA with 2 components\n",
        "\n"
      ],
      "metadata": {
        "id": "nBzPo46JL-jD"
      }
    },
    {
      "cell_type": "markdown",
      "source": [
        "## 1.Prepare the dataset for training"
      ],
      "metadata": {
        "id": "4Udgp19vQbjZ"
      }
    },
    {
      "cell_type": "markdown",
      "source": [
        "### Make the necessary imports"
      ],
      "metadata": {
        "id": "16z0QxCbN4cK"
      }
    },
    {
      "cell_type": "code",
      "source": [
        "import pandas as pd\n",
        "import numpy as np\n",
        "from sklearn.preprocessing import StandardScaler\n",
        "from sklearn.decomposition import PCA\n",
        "from sklearn.linear_model import LassoCV\n",
        "import matplotlib\n",
        "import matplotlib.pyplot as plt\n",
        "import seaborn as sns\n",
        "from sklearn.preprocessing import StandardScaler, PowerTransformer\n",
        "from sklearn.model_selection import train_test_split\n",
        "from sklearn import linear_model,metrics\n"
      ],
      "metadata": {
        "id": "wq4g1uM6N0MF"
      },
      "execution_count": 1,
      "outputs": []
    },
    {
      "cell_type": "markdown",
      "source": [
        "### Get the data"
      ],
      "metadata": {
        "id": "QjuSaT-WOBcp"
      }
    },
    {
      "cell_type": "code",
      "source": [
        "from google.colab import drive\n",
        "drive.mount('/content/drive')"
      ],
      "metadata": {
        "colab": {
          "base_uri": "https://localhost:8080/"
        },
        "id": "UpYK7_v9NnbN",
        "outputId": "d7973cd8-7e0f-43c0-e996-f71a9eda88b9"
      },
      "execution_count": 2,
      "outputs": [
        {
          "output_type": "stream",
          "name": "stdout",
          "text": [
            "Mounted at /content/drive\n"
          ]
        }
      ]
    },
    {
      "cell_type": "code",
      "source": [
        "data=pd.read_csv('/content/drive/MyDrive/Machine Learning/modified_data.csv')"
      ],
      "metadata": {
        "id": "8PBJ7KgTNrlb"
      },
      "execution_count": 3,
      "outputs": []
    },
    {
      "cell_type": "code",
      "source": [
        "data.head()"
      ],
      "metadata": {
        "colab": {
          "base_uri": "https://localhost:8080/",
          "height": 299
        },
        "id": "3JW1vhIbOIwY",
        "outputId": "7a891700-8a4a-4d1d-a372-dd5c9ba41220"
      },
      "execution_count": 4,
      "outputs": [
        {
          "output_type": "execute_result",
          "data": {
            "text/plain": [
              "   Id  MSSubClass MSZoning  LotFrontage  LotArea Street LotShape LandContour  \\\n",
              "0   1          60       RL         65.0     8450   Pave      Reg         Lvl   \n",
              "1   2          20       RL         80.0     9600   Pave      Reg         Lvl   \n",
              "2   3          60       RL         68.0    11250   Pave      IR1         Lvl   \n",
              "3   4          70       RL         60.0     9550   Pave      IR1         Lvl   \n",
              "4   5          60       RL         84.0    14260   Pave      IR1         Lvl   \n",
              "\n",
              "  Utilities LotConfig  ... EnclosedPorch 3SsnPorch ScreenPorch PoolArea  \\\n",
              "0    AllPub    Inside  ...             0         0           0        0   \n",
              "1    AllPub       FR2  ...             0         0           0        0   \n",
              "2    AllPub    Inside  ...             0         0           0        0   \n",
              "3    AllPub    Corner  ...           272         0           0        0   \n",
              "4    AllPub       FR2  ...             0         0           0        0   \n",
              "\n",
              "  MiscVal MoSold  YrSold  SaleType  SaleCondition  SalePrice  \n",
              "0       0      2    2008        WD         Normal     208500  \n",
              "1       0      5    2007        WD         Normal     181500  \n",
              "2       0      9    2008        WD         Normal     223500  \n",
              "3       0      2    2006        WD        Abnorml     140000  \n",
              "4       0     12    2008        WD         Normal     250000  \n",
              "\n",
              "[5 rows x 77 columns]"
            ],
            "text/html": [
              "\n",
              "  <div id=\"df-48745a82-b3c8-47fe-a90b-4a6df8352e0a\">\n",
              "    <div class=\"colab-df-container\">\n",
              "      <div>\n",
              "<style scoped>\n",
              "    .dataframe tbody tr th:only-of-type {\n",
              "        vertical-align: middle;\n",
              "    }\n",
              "\n",
              "    .dataframe tbody tr th {\n",
              "        vertical-align: top;\n",
              "    }\n",
              "\n",
              "    .dataframe thead th {\n",
              "        text-align: right;\n",
              "    }\n",
              "</style>\n",
              "<table border=\"1\" class=\"dataframe\">\n",
              "  <thead>\n",
              "    <tr style=\"text-align: right;\">\n",
              "      <th></th>\n",
              "      <th>Id</th>\n",
              "      <th>MSSubClass</th>\n",
              "      <th>MSZoning</th>\n",
              "      <th>LotFrontage</th>\n",
              "      <th>LotArea</th>\n",
              "      <th>Street</th>\n",
              "      <th>LotShape</th>\n",
              "      <th>LandContour</th>\n",
              "      <th>Utilities</th>\n",
              "      <th>LotConfig</th>\n",
              "      <th>...</th>\n",
              "      <th>EnclosedPorch</th>\n",
              "      <th>3SsnPorch</th>\n",
              "      <th>ScreenPorch</th>\n",
              "      <th>PoolArea</th>\n",
              "      <th>MiscVal</th>\n",
              "      <th>MoSold</th>\n",
              "      <th>YrSold</th>\n",
              "      <th>SaleType</th>\n",
              "      <th>SaleCondition</th>\n",
              "      <th>SalePrice</th>\n",
              "    </tr>\n",
              "  </thead>\n",
              "  <tbody>\n",
              "    <tr>\n",
              "      <th>0</th>\n",
              "      <td>1</td>\n",
              "      <td>60</td>\n",
              "      <td>RL</td>\n",
              "      <td>65.0</td>\n",
              "      <td>8450</td>\n",
              "      <td>Pave</td>\n",
              "      <td>Reg</td>\n",
              "      <td>Lvl</td>\n",
              "      <td>AllPub</td>\n",
              "      <td>Inside</td>\n",
              "      <td>...</td>\n",
              "      <td>0</td>\n",
              "      <td>0</td>\n",
              "      <td>0</td>\n",
              "      <td>0</td>\n",
              "      <td>0</td>\n",
              "      <td>2</td>\n",
              "      <td>2008</td>\n",
              "      <td>WD</td>\n",
              "      <td>Normal</td>\n",
              "      <td>208500</td>\n",
              "    </tr>\n",
              "    <tr>\n",
              "      <th>1</th>\n",
              "      <td>2</td>\n",
              "      <td>20</td>\n",
              "      <td>RL</td>\n",
              "      <td>80.0</td>\n",
              "      <td>9600</td>\n",
              "      <td>Pave</td>\n",
              "      <td>Reg</td>\n",
              "      <td>Lvl</td>\n",
              "      <td>AllPub</td>\n",
              "      <td>FR2</td>\n",
              "      <td>...</td>\n",
              "      <td>0</td>\n",
              "      <td>0</td>\n",
              "      <td>0</td>\n",
              "      <td>0</td>\n",
              "      <td>0</td>\n",
              "      <td>5</td>\n",
              "      <td>2007</td>\n",
              "      <td>WD</td>\n",
              "      <td>Normal</td>\n",
              "      <td>181500</td>\n",
              "    </tr>\n",
              "    <tr>\n",
              "      <th>2</th>\n",
              "      <td>3</td>\n",
              "      <td>60</td>\n",
              "      <td>RL</td>\n",
              "      <td>68.0</td>\n",
              "      <td>11250</td>\n",
              "      <td>Pave</td>\n",
              "      <td>IR1</td>\n",
              "      <td>Lvl</td>\n",
              "      <td>AllPub</td>\n",
              "      <td>Inside</td>\n",
              "      <td>...</td>\n",
              "      <td>0</td>\n",
              "      <td>0</td>\n",
              "      <td>0</td>\n",
              "      <td>0</td>\n",
              "      <td>0</td>\n",
              "      <td>9</td>\n",
              "      <td>2008</td>\n",
              "      <td>WD</td>\n",
              "      <td>Normal</td>\n",
              "      <td>223500</td>\n",
              "    </tr>\n",
              "    <tr>\n",
              "      <th>3</th>\n",
              "      <td>4</td>\n",
              "      <td>70</td>\n",
              "      <td>RL</td>\n",
              "      <td>60.0</td>\n",
              "      <td>9550</td>\n",
              "      <td>Pave</td>\n",
              "      <td>IR1</td>\n",
              "      <td>Lvl</td>\n",
              "      <td>AllPub</td>\n",
              "      <td>Corner</td>\n",
              "      <td>...</td>\n",
              "      <td>272</td>\n",
              "      <td>0</td>\n",
              "      <td>0</td>\n",
              "      <td>0</td>\n",
              "      <td>0</td>\n",
              "      <td>2</td>\n",
              "      <td>2006</td>\n",
              "      <td>WD</td>\n",
              "      <td>Abnorml</td>\n",
              "      <td>140000</td>\n",
              "    </tr>\n",
              "    <tr>\n",
              "      <th>4</th>\n",
              "      <td>5</td>\n",
              "      <td>60</td>\n",
              "      <td>RL</td>\n",
              "      <td>84.0</td>\n",
              "      <td>14260</td>\n",
              "      <td>Pave</td>\n",
              "      <td>IR1</td>\n",
              "      <td>Lvl</td>\n",
              "      <td>AllPub</td>\n",
              "      <td>FR2</td>\n",
              "      <td>...</td>\n",
              "      <td>0</td>\n",
              "      <td>0</td>\n",
              "      <td>0</td>\n",
              "      <td>0</td>\n",
              "      <td>0</td>\n",
              "      <td>12</td>\n",
              "      <td>2008</td>\n",
              "      <td>WD</td>\n",
              "      <td>Normal</td>\n",
              "      <td>250000</td>\n",
              "    </tr>\n",
              "  </tbody>\n",
              "</table>\n",
              "<p>5 rows × 77 columns</p>\n",
              "</div>\n",
              "      <button class=\"colab-df-convert\" onclick=\"convertToInteractive('df-48745a82-b3c8-47fe-a90b-4a6df8352e0a')\"\n",
              "              title=\"Convert this dataframe to an interactive table.\"\n",
              "              style=\"display:none;\">\n",
              "        \n",
              "  <svg xmlns=\"http://www.w3.org/2000/svg\" height=\"24px\"viewBox=\"0 0 24 24\"\n",
              "       width=\"24px\">\n",
              "    <path d=\"M0 0h24v24H0V0z\" fill=\"none\"/>\n",
              "    <path d=\"M18.56 5.44l.94 2.06.94-2.06 2.06-.94-2.06-.94-.94-2.06-.94 2.06-2.06.94zm-11 1L8.5 8.5l.94-2.06 2.06-.94-2.06-.94L8.5 2.5l-.94 2.06-2.06.94zm10 10l.94 2.06.94-2.06 2.06-.94-2.06-.94-.94-2.06-.94 2.06-2.06.94z\"/><path d=\"M17.41 7.96l-1.37-1.37c-.4-.4-.92-.59-1.43-.59-.52 0-1.04.2-1.43.59L10.3 9.45l-7.72 7.72c-.78.78-.78 2.05 0 2.83L4 21.41c.39.39.9.59 1.41.59.51 0 1.02-.2 1.41-.59l7.78-7.78 2.81-2.81c.8-.78.8-2.07 0-2.86zM5.41 20L4 18.59l7.72-7.72 1.47 1.35L5.41 20z\"/>\n",
              "  </svg>\n",
              "      </button>\n",
              "      \n",
              "  <style>\n",
              "    .colab-df-container {\n",
              "      display:flex;\n",
              "      flex-wrap:wrap;\n",
              "      gap: 12px;\n",
              "    }\n",
              "\n",
              "    .colab-df-convert {\n",
              "      background-color: #E8F0FE;\n",
              "      border: none;\n",
              "      border-radius: 50%;\n",
              "      cursor: pointer;\n",
              "      display: none;\n",
              "      fill: #1967D2;\n",
              "      height: 32px;\n",
              "      padding: 0 0 0 0;\n",
              "      width: 32px;\n",
              "    }\n",
              "\n",
              "    .colab-df-convert:hover {\n",
              "      background-color: #E2EBFA;\n",
              "      box-shadow: 0px 1px 2px rgba(60, 64, 67, 0.3), 0px 1px 3px 1px rgba(60, 64, 67, 0.15);\n",
              "      fill: #174EA6;\n",
              "    }\n",
              "\n",
              "    [theme=dark] .colab-df-convert {\n",
              "      background-color: #3B4455;\n",
              "      fill: #D2E3FC;\n",
              "    }\n",
              "\n",
              "    [theme=dark] .colab-df-convert:hover {\n",
              "      background-color: #434B5C;\n",
              "      box-shadow: 0px 1px 3px 1px rgba(0, 0, 0, 0.15);\n",
              "      filter: drop-shadow(0px 1px 2px rgba(0, 0, 0, 0.3));\n",
              "      fill: #FFFFFF;\n",
              "    }\n",
              "  </style>\n",
              "\n",
              "      <script>\n",
              "        const buttonEl =\n",
              "          document.querySelector('#df-48745a82-b3c8-47fe-a90b-4a6df8352e0a button.colab-df-convert');\n",
              "        buttonEl.style.display =\n",
              "          google.colab.kernel.accessAllowed ? 'block' : 'none';\n",
              "\n",
              "        async function convertToInteractive(key) {\n",
              "          const element = document.querySelector('#df-48745a82-b3c8-47fe-a90b-4a6df8352e0a');\n",
              "          const dataTable =\n",
              "            await google.colab.kernel.invokeFunction('convertToInteractive',\n",
              "                                                     [key], {});\n",
              "          if (!dataTable) return;\n",
              "\n",
              "          const docLinkHtml = 'Like what you see? Visit the ' +\n",
              "            '<a target=\"_blank\" href=https://colab.research.google.com/notebooks/data_table.ipynb>data table notebook</a>'\n",
              "            + ' to learn more about interactive tables.';\n",
              "          element.innerHTML = '';\n",
              "          dataTable['output_type'] = 'display_data';\n",
              "          await google.colab.output.renderOutput(dataTable, element);\n",
              "          const docLink = document.createElement('div');\n",
              "          docLink.innerHTML = docLinkHtml;\n",
              "          element.appendChild(docLink);\n",
              "        }\n",
              "      </script>\n",
              "    </div>\n",
              "  </div>\n",
              "  "
            ]
          },
          "metadata": {},
          "execution_count": 4
        }
      ]
    },
    {
      "cell_type": "markdown",
      "source": [
        "## 2.Fill in missing values"
      ],
      "metadata": {
        "id": "0jxUPMWENSDj"
      }
    },
    {
      "cell_type": "markdown",
      "source": [
        "### Search for missing values"
      ],
      "metadata": {
        "id": "GPS1ia3LNcPe"
      }
    },
    {
      "cell_type": "code",
      "source": [
        "data.drop('Id',axis=1,inplace=True)"
      ],
      "metadata": {
        "id": "IZ2rJ-W7OQ5X"
      },
      "execution_count": 5,
      "outputs": []
    },
    {
      "cell_type": "code",
      "source": [
        "data.head()"
      ],
      "metadata": {
        "colab": {
          "base_uri": "https://localhost:8080/",
          "height": 299
        },
        "id": "Q61GWMq_OYRr",
        "outputId": "77847567-af16-4b0d-b45f-9b5e78eb09f7"
      },
      "execution_count": 6,
      "outputs": [
        {
          "output_type": "execute_result",
          "data": {
            "text/plain": [
              "   MSSubClass MSZoning  LotFrontage  LotArea Street LotShape LandContour  \\\n",
              "0          60       RL         65.0     8450   Pave      Reg         Lvl   \n",
              "1          20       RL         80.0     9600   Pave      Reg         Lvl   \n",
              "2          60       RL         68.0    11250   Pave      IR1         Lvl   \n",
              "3          70       RL         60.0     9550   Pave      IR1         Lvl   \n",
              "4          60       RL         84.0    14260   Pave      IR1         Lvl   \n",
              "\n",
              "  Utilities LotConfig LandSlope  ... EnclosedPorch 3SsnPorch ScreenPorch  \\\n",
              "0    AllPub    Inside       Gtl  ...             0         0           0   \n",
              "1    AllPub       FR2       Gtl  ...             0         0           0   \n",
              "2    AllPub    Inside       Gtl  ...             0         0           0   \n",
              "3    AllPub    Corner       Gtl  ...           272         0           0   \n",
              "4    AllPub       FR2       Gtl  ...             0         0           0   \n",
              "\n",
              "  PoolArea MiscVal  MoSold  YrSold  SaleType  SaleCondition SalePrice  \n",
              "0        0       0       2    2008        WD         Normal    208500  \n",
              "1        0       0       5    2007        WD         Normal    181500  \n",
              "2        0       0       9    2008        WD         Normal    223500  \n",
              "3        0       0       2    2006        WD        Abnorml    140000  \n",
              "4        0       0      12    2008        WD         Normal    250000  \n",
              "\n",
              "[5 rows x 76 columns]"
            ],
            "text/html": [
              "\n",
              "  <div id=\"df-b6c9896a-54f2-4108-8002-b8f8645cadc8\">\n",
              "    <div class=\"colab-df-container\">\n",
              "      <div>\n",
              "<style scoped>\n",
              "    .dataframe tbody tr th:only-of-type {\n",
              "        vertical-align: middle;\n",
              "    }\n",
              "\n",
              "    .dataframe tbody tr th {\n",
              "        vertical-align: top;\n",
              "    }\n",
              "\n",
              "    .dataframe thead th {\n",
              "        text-align: right;\n",
              "    }\n",
              "</style>\n",
              "<table border=\"1\" class=\"dataframe\">\n",
              "  <thead>\n",
              "    <tr style=\"text-align: right;\">\n",
              "      <th></th>\n",
              "      <th>MSSubClass</th>\n",
              "      <th>MSZoning</th>\n",
              "      <th>LotFrontage</th>\n",
              "      <th>LotArea</th>\n",
              "      <th>Street</th>\n",
              "      <th>LotShape</th>\n",
              "      <th>LandContour</th>\n",
              "      <th>Utilities</th>\n",
              "      <th>LotConfig</th>\n",
              "      <th>LandSlope</th>\n",
              "      <th>...</th>\n",
              "      <th>EnclosedPorch</th>\n",
              "      <th>3SsnPorch</th>\n",
              "      <th>ScreenPorch</th>\n",
              "      <th>PoolArea</th>\n",
              "      <th>MiscVal</th>\n",
              "      <th>MoSold</th>\n",
              "      <th>YrSold</th>\n",
              "      <th>SaleType</th>\n",
              "      <th>SaleCondition</th>\n",
              "      <th>SalePrice</th>\n",
              "    </tr>\n",
              "  </thead>\n",
              "  <tbody>\n",
              "    <tr>\n",
              "      <th>0</th>\n",
              "      <td>60</td>\n",
              "      <td>RL</td>\n",
              "      <td>65.0</td>\n",
              "      <td>8450</td>\n",
              "      <td>Pave</td>\n",
              "      <td>Reg</td>\n",
              "      <td>Lvl</td>\n",
              "      <td>AllPub</td>\n",
              "      <td>Inside</td>\n",
              "      <td>Gtl</td>\n",
              "      <td>...</td>\n",
              "      <td>0</td>\n",
              "      <td>0</td>\n",
              "      <td>0</td>\n",
              "      <td>0</td>\n",
              "      <td>0</td>\n",
              "      <td>2</td>\n",
              "      <td>2008</td>\n",
              "      <td>WD</td>\n",
              "      <td>Normal</td>\n",
              "      <td>208500</td>\n",
              "    </tr>\n",
              "    <tr>\n",
              "      <th>1</th>\n",
              "      <td>20</td>\n",
              "      <td>RL</td>\n",
              "      <td>80.0</td>\n",
              "      <td>9600</td>\n",
              "      <td>Pave</td>\n",
              "      <td>Reg</td>\n",
              "      <td>Lvl</td>\n",
              "      <td>AllPub</td>\n",
              "      <td>FR2</td>\n",
              "      <td>Gtl</td>\n",
              "      <td>...</td>\n",
              "      <td>0</td>\n",
              "      <td>0</td>\n",
              "      <td>0</td>\n",
              "      <td>0</td>\n",
              "      <td>0</td>\n",
              "      <td>5</td>\n",
              "      <td>2007</td>\n",
              "      <td>WD</td>\n",
              "      <td>Normal</td>\n",
              "      <td>181500</td>\n",
              "    </tr>\n",
              "    <tr>\n",
              "      <th>2</th>\n",
              "      <td>60</td>\n",
              "      <td>RL</td>\n",
              "      <td>68.0</td>\n",
              "      <td>11250</td>\n",
              "      <td>Pave</td>\n",
              "      <td>IR1</td>\n",
              "      <td>Lvl</td>\n",
              "      <td>AllPub</td>\n",
              "      <td>Inside</td>\n",
              "      <td>Gtl</td>\n",
              "      <td>...</td>\n",
              "      <td>0</td>\n",
              "      <td>0</td>\n",
              "      <td>0</td>\n",
              "      <td>0</td>\n",
              "      <td>0</td>\n",
              "      <td>9</td>\n",
              "      <td>2008</td>\n",
              "      <td>WD</td>\n",
              "      <td>Normal</td>\n",
              "      <td>223500</td>\n",
              "    </tr>\n",
              "    <tr>\n",
              "      <th>3</th>\n",
              "      <td>70</td>\n",
              "      <td>RL</td>\n",
              "      <td>60.0</td>\n",
              "      <td>9550</td>\n",
              "      <td>Pave</td>\n",
              "      <td>IR1</td>\n",
              "      <td>Lvl</td>\n",
              "      <td>AllPub</td>\n",
              "      <td>Corner</td>\n",
              "      <td>Gtl</td>\n",
              "      <td>...</td>\n",
              "      <td>272</td>\n",
              "      <td>0</td>\n",
              "      <td>0</td>\n",
              "      <td>0</td>\n",
              "      <td>0</td>\n",
              "      <td>2</td>\n",
              "      <td>2006</td>\n",
              "      <td>WD</td>\n",
              "      <td>Abnorml</td>\n",
              "      <td>140000</td>\n",
              "    </tr>\n",
              "    <tr>\n",
              "      <th>4</th>\n",
              "      <td>60</td>\n",
              "      <td>RL</td>\n",
              "      <td>84.0</td>\n",
              "      <td>14260</td>\n",
              "      <td>Pave</td>\n",
              "      <td>IR1</td>\n",
              "      <td>Lvl</td>\n",
              "      <td>AllPub</td>\n",
              "      <td>FR2</td>\n",
              "      <td>Gtl</td>\n",
              "      <td>...</td>\n",
              "      <td>0</td>\n",
              "      <td>0</td>\n",
              "      <td>0</td>\n",
              "      <td>0</td>\n",
              "      <td>0</td>\n",
              "      <td>12</td>\n",
              "      <td>2008</td>\n",
              "      <td>WD</td>\n",
              "      <td>Normal</td>\n",
              "      <td>250000</td>\n",
              "    </tr>\n",
              "  </tbody>\n",
              "</table>\n",
              "<p>5 rows × 76 columns</p>\n",
              "</div>\n",
              "      <button class=\"colab-df-convert\" onclick=\"convertToInteractive('df-b6c9896a-54f2-4108-8002-b8f8645cadc8')\"\n",
              "              title=\"Convert this dataframe to an interactive table.\"\n",
              "              style=\"display:none;\">\n",
              "        \n",
              "  <svg xmlns=\"http://www.w3.org/2000/svg\" height=\"24px\"viewBox=\"0 0 24 24\"\n",
              "       width=\"24px\">\n",
              "    <path d=\"M0 0h24v24H0V0z\" fill=\"none\"/>\n",
              "    <path d=\"M18.56 5.44l.94 2.06.94-2.06 2.06-.94-2.06-.94-.94-2.06-.94 2.06-2.06.94zm-11 1L8.5 8.5l.94-2.06 2.06-.94-2.06-.94L8.5 2.5l-.94 2.06-2.06.94zm10 10l.94 2.06.94-2.06 2.06-.94-2.06-.94-.94-2.06-.94 2.06-2.06.94z\"/><path d=\"M17.41 7.96l-1.37-1.37c-.4-.4-.92-.59-1.43-.59-.52 0-1.04.2-1.43.59L10.3 9.45l-7.72 7.72c-.78.78-.78 2.05 0 2.83L4 21.41c.39.39.9.59 1.41.59.51 0 1.02-.2 1.41-.59l7.78-7.78 2.81-2.81c.8-.78.8-2.07 0-2.86zM5.41 20L4 18.59l7.72-7.72 1.47 1.35L5.41 20z\"/>\n",
              "  </svg>\n",
              "      </button>\n",
              "      \n",
              "  <style>\n",
              "    .colab-df-container {\n",
              "      display:flex;\n",
              "      flex-wrap:wrap;\n",
              "      gap: 12px;\n",
              "    }\n",
              "\n",
              "    .colab-df-convert {\n",
              "      background-color: #E8F0FE;\n",
              "      border: none;\n",
              "      border-radius: 50%;\n",
              "      cursor: pointer;\n",
              "      display: none;\n",
              "      fill: #1967D2;\n",
              "      height: 32px;\n",
              "      padding: 0 0 0 0;\n",
              "      width: 32px;\n",
              "    }\n",
              "\n",
              "    .colab-df-convert:hover {\n",
              "      background-color: #E2EBFA;\n",
              "      box-shadow: 0px 1px 2px rgba(60, 64, 67, 0.3), 0px 1px 3px 1px rgba(60, 64, 67, 0.15);\n",
              "      fill: #174EA6;\n",
              "    }\n",
              "\n",
              "    [theme=dark] .colab-df-convert {\n",
              "      background-color: #3B4455;\n",
              "      fill: #D2E3FC;\n",
              "    }\n",
              "\n",
              "    [theme=dark] .colab-df-convert:hover {\n",
              "      background-color: #434B5C;\n",
              "      box-shadow: 0px 1px 3px 1px rgba(0, 0, 0, 0.15);\n",
              "      filter: drop-shadow(0px 1px 2px rgba(0, 0, 0, 0.3));\n",
              "      fill: #FFFFFF;\n",
              "    }\n",
              "  </style>\n",
              "\n",
              "      <script>\n",
              "        const buttonEl =\n",
              "          document.querySelector('#df-b6c9896a-54f2-4108-8002-b8f8645cadc8 button.colab-df-convert');\n",
              "        buttonEl.style.display =\n",
              "          google.colab.kernel.accessAllowed ? 'block' : 'none';\n",
              "\n",
              "        async function convertToInteractive(key) {\n",
              "          const element = document.querySelector('#df-b6c9896a-54f2-4108-8002-b8f8645cadc8');\n",
              "          const dataTable =\n",
              "            await google.colab.kernel.invokeFunction('convertToInteractive',\n",
              "                                                     [key], {});\n",
              "          if (!dataTable) return;\n",
              "\n",
              "          const docLinkHtml = 'Like what you see? Visit the ' +\n",
              "            '<a target=\"_blank\" href=https://colab.research.google.com/notebooks/data_table.ipynb>data table notebook</a>'\n",
              "            + ' to learn more about interactive tables.';\n",
              "          element.innerHTML = '';\n",
              "          dataTable['output_type'] = 'display_data';\n",
              "          await google.colab.output.renderOutput(dataTable, element);\n",
              "          const docLink = document.createElement('div');\n",
              "          docLink.innerHTML = docLinkHtml;\n",
              "          element.appendChild(docLink);\n",
              "        }\n",
              "      </script>\n",
              "    </div>\n",
              "  </div>\n",
              "  "
            ]
          },
          "metadata": {},
          "execution_count": 6
        }
      ]
    },
    {
      "cell_type": "code",
      "source": [
        "data.shape"
      ],
      "metadata": {
        "colab": {
          "base_uri": "https://localhost:8080/"
        },
        "id": "GB41kt6JOawo",
        "outputId": "5f4ea7b7-cf89-4b7c-8634-b41049aabc50"
      },
      "execution_count": 7,
      "outputs": [
        {
          "output_type": "execute_result",
          "data": {
            "text/plain": [
              "(1460, 76)"
            ]
          },
          "metadata": {},
          "execution_count": 7
        }
      ]
    },
    {
      "cell_type": "code",
      "source": [
        "data.isna().any()"
      ],
      "metadata": {
        "colab": {
          "base_uri": "https://localhost:8080/"
        },
        "id": "lcPZIK-cOkEc",
        "outputId": "ed2fc9bc-f939-49b1-900e-19b59158d454"
      },
      "execution_count": 8,
      "outputs": [
        {
          "output_type": "execute_result",
          "data": {
            "text/plain": [
              "MSSubClass       False\n",
              "MSZoning         False\n",
              "LotFrontage       True\n",
              "LotArea          False\n",
              "Street           False\n",
              "                 ...  \n",
              "MoSold           False\n",
              "YrSold           False\n",
              "SaleType         False\n",
              "SaleCondition    False\n",
              "SalePrice        False\n",
              "Length: 76, dtype: bool"
            ]
          },
          "metadata": {},
          "execution_count": 8
        }
      ]
    },
    {
      "cell_type": "code",
      "source": [
        "all_features=list(data.columns)\n",
        "all_features"
      ],
      "metadata": {
        "colab": {
          "base_uri": "https://localhost:8080/"
        },
        "id": "RDtnu5KyOnPW",
        "outputId": "ab1f5f6e-5c30-4c57-abf0-8e06ed98beb7"
      },
      "execution_count": 9,
      "outputs": [
        {
          "output_type": "execute_result",
          "data": {
            "text/plain": [
              "['MSSubClass',\n",
              " 'MSZoning',\n",
              " 'LotFrontage',\n",
              " 'LotArea',\n",
              " 'Street',\n",
              " 'LotShape',\n",
              " 'LandContour',\n",
              " 'Utilities',\n",
              " 'LotConfig',\n",
              " 'LandSlope',\n",
              " 'Neighborhood',\n",
              " 'Condition1',\n",
              " 'Condition2',\n",
              " 'BldgType',\n",
              " 'HouseStyle',\n",
              " 'OverallQual',\n",
              " 'OverallCond',\n",
              " 'YearBuilt',\n",
              " 'YearRemodAdd',\n",
              " 'RoofStyle',\n",
              " 'RoofMatl',\n",
              " 'Exterior1st',\n",
              " 'Exterior2nd',\n",
              " 'MasVnrType',\n",
              " 'MasVnrArea',\n",
              " 'ExterQual',\n",
              " 'ExterCond',\n",
              " 'Foundation',\n",
              " 'BsmtQual',\n",
              " 'BsmtCond',\n",
              " 'BsmtExposure',\n",
              " 'BsmtFinType1',\n",
              " 'BsmtFinSF1',\n",
              " 'BsmtFinType2',\n",
              " 'BsmtFinSF2',\n",
              " 'BsmtUnfSF',\n",
              " 'TotalBsmtSF',\n",
              " 'Heating',\n",
              " 'HeatingQC',\n",
              " 'CentralAir',\n",
              " 'Electrical',\n",
              " '1stFlrSF',\n",
              " '2ndFlrSF',\n",
              " 'LowQualFinSF',\n",
              " 'GrLivArea',\n",
              " 'BsmtFullBath',\n",
              " 'BsmtHalfBath',\n",
              " 'FullBath',\n",
              " 'HalfBath',\n",
              " 'BedroomAbvGr',\n",
              " 'KitchenAbvGr',\n",
              " 'KitchenQual',\n",
              " 'TotRmsAbvGrd',\n",
              " 'Functional',\n",
              " 'Fireplaces',\n",
              " 'FireplaceQu',\n",
              " 'GarageType',\n",
              " 'GarageYrBlt',\n",
              " 'GarageFinish',\n",
              " 'GarageCars',\n",
              " 'GarageArea',\n",
              " 'GarageQual',\n",
              " 'GarageCond',\n",
              " 'PavedDrive',\n",
              " 'WoodDeckSF',\n",
              " 'OpenPorchSF',\n",
              " 'EnclosedPorch',\n",
              " '3SsnPorch',\n",
              " 'ScreenPorch',\n",
              " 'PoolArea',\n",
              " 'MiscVal',\n",
              " 'MoSold',\n",
              " 'YrSold',\n",
              " 'SaleType',\n",
              " 'SaleCondition',\n",
              " 'SalePrice']"
            ]
          },
          "metadata": {},
          "execution_count": 9
        }
      ]
    },
    {
      "cell_type": "code",
      "source": [
        "len(all_features)"
      ],
      "metadata": {
        "colab": {
          "base_uri": "https://localhost:8080/"
        },
        "id": "L7Tm6Gx5OzQM",
        "outputId": "3f3ee917-2788-4663-f810-65483d3222cb"
      },
      "execution_count": 10,
      "outputs": [
        {
          "output_type": "execute_result",
          "data": {
            "text/plain": [
              "76"
            ]
          },
          "metadata": {},
          "execution_count": 10
        }
      ]
    },
    {
      "cell_type": "code",
      "source": [
        "features_missing_values=list(data.columns[data.isna().any()])\n",
        "features_missing_values"
      ],
      "metadata": {
        "colab": {
          "base_uri": "https://localhost:8080/"
        },
        "id": "-_-6YtclO5xZ",
        "outputId": "34e9c3af-6802-40d4-c9e5-772dd2ad6fb2"
      },
      "execution_count": 11,
      "outputs": [
        {
          "output_type": "execute_result",
          "data": {
            "text/plain": [
              "['LotFrontage',\n",
              " 'MasVnrType',\n",
              " 'MasVnrArea',\n",
              " 'BsmtQual',\n",
              " 'BsmtCond',\n",
              " 'BsmtExposure',\n",
              " 'BsmtFinType1',\n",
              " 'BsmtFinType2',\n",
              " 'Electrical',\n",
              " 'FireplaceQu',\n",
              " 'GarageType',\n",
              " 'GarageYrBlt',\n",
              " 'GarageFinish',\n",
              " 'GarageQual',\n",
              " 'GarageCond']"
            ]
          },
          "metadata": {},
          "execution_count": 11
        }
      ]
    },
    {
      "cell_type": "code",
      "source": [
        "len(features_missing_values)"
      ],
      "metadata": {
        "colab": {
          "base_uri": "https://localhost:8080/"
        },
        "id": "Kb9FVIMRPChS",
        "outputId": "f05305c4-d51e-4638-a1b5-7bbbf4cb9079"
      },
      "execution_count": 12,
      "outputs": [
        {
          "output_type": "execute_result",
          "data": {
            "text/plain": [
              "15"
            ]
          },
          "metadata": {},
          "execution_count": 12
        }
      ]
    },
    {
      "cell_type": "markdown",
      "source": [
        "Print the feature along with the number of values missing in that feature divided by the number of features*100"
      ],
      "metadata": {
        "id": "uajoL2laPkX1"
      }
    },
    {
      "cell_type": "code",
      "source": [
        "for feature in features_missing_values:\n",
        "  print(feature,' ',(data[feature].isna().sum())/len(data)*100)"
      ],
      "metadata": {
        "colab": {
          "base_uri": "https://localhost:8080/"
        },
        "id": "2raWQx_qPJdM",
        "outputId": "c8a3536b-4795-4c29-ff05-f8ef920ba749"
      },
      "execution_count": 13,
      "outputs": [
        {
          "output_type": "stream",
          "name": "stdout",
          "text": [
            "LotFrontage   17.73972602739726\n",
            "MasVnrType   0.547945205479452\n",
            "MasVnrArea   0.547945205479452\n",
            "BsmtQual   2.5342465753424657\n",
            "BsmtCond   2.5342465753424657\n",
            "BsmtExposure   2.6027397260273974\n",
            "BsmtFinType1   2.5342465753424657\n",
            "BsmtFinType2   2.6027397260273974\n",
            "Electrical   0.0684931506849315\n",
            "FireplaceQu   47.26027397260274\n",
            "GarageType   5.5479452054794525\n",
            "GarageYrBlt   5.5479452054794525\n",
            "GarageFinish   5.5479452054794525\n",
            "GarageQual   5.5479452054794525\n",
            "GarageCond   5.5479452054794525\n"
          ]
        }
      ]
    },
    {
      "cell_type": "code",
      "source": [
        "data.dropna(axis=1,thresh=0.5*(len(data)),inplace=True)"
      ],
      "metadata": {
        "id": "VByS3XYAPxPu"
      },
      "execution_count": 14,
      "outputs": []
    },
    {
      "cell_type": "markdown",
      "source": [
        "### Fill the missing values"
      ],
      "metadata": {
        "id": "gFIx26-7QiRw"
      }
    },
    {
      "cell_type": "code",
      "source": [
        "mean_fill=['LotFrontage','MasVnrArea']\n",
        "bfill=['FireplaceQu']\n",
        "ffill=list(set(features_missing_values)-set(mean_fill)-set(bfill))"
      ],
      "metadata": {
        "id": "JOsaHxsFQrPn"
      },
      "execution_count": 15,
      "outputs": []
    },
    {
      "cell_type": "code",
      "source": [
        "ffill"
      ],
      "metadata": {
        "colab": {
          "base_uri": "https://localhost:8080/"
        },
        "id": "4VbdfFURQyG_",
        "outputId": "ae3376b8-75c9-42e0-f722-68f52d6ee96f"
      },
      "execution_count": 16,
      "outputs": [
        {
          "output_type": "execute_result",
          "data": {
            "text/plain": [
              "['BsmtFinType1',\n",
              " 'BsmtFinType2',\n",
              " 'GarageQual',\n",
              " 'GarageFinish',\n",
              " 'Electrical',\n",
              " 'GarageYrBlt',\n",
              " 'MasVnrType',\n",
              " 'GarageType',\n",
              " 'BsmtQual',\n",
              " 'GarageCond',\n",
              " 'BsmtCond',\n",
              " 'BsmtExposure']"
            ]
          },
          "metadata": {},
          "execution_count": 16
        }
      ]
    },
    {
      "cell_type": "markdown",
      "source": [
        "**pandas.DataFrame.fillna**\n",
        "DataFrame.fillna(value=None, method=None, axis=None, inplace=False, limit=None, downcast=None)[source]\n",
        "Fill NA/NaN values using the specified method.\n",
        "\n",
        "> Parameters\n",
        "valuescalar, dict, Series, or DataFrame\n",
        "Value to use to fill holes (e.g. 0), alternately a dict/Series/DataFrame of values specifying which value to use for each index (for a Series) or column (for a DataFrame). Values not in the dict/Series/DataFrame will not be filled. This value cannot be a list.\n",
        "\n",
        "> method{‘backfill’, ‘bfill’, ‘pad’, ‘ffill’, None}, default None\n",
        "Method to use for filling holes in reindexed Series pad / ffill: propagate last valid observation forward to next valid backfill / bfill: use next valid observation to fill gap.\n",
        "\n",
        "\n"
      ],
      "metadata": {
        "id": "dxelCIzAROhe"
      }
    },
    {
      "cell_type": "code",
      "source": [
        "for feature in mean_fill:\n",
        "  data[feature].fillna(data[feature].mean(),inplace=True)"
      ],
      "metadata": {
        "id": "1uq6nu-VQ6WK"
      },
      "execution_count": 17,
      "outputs": []
    },
    {
      "cell_type": "code",
      "source": [
        "for feature in ffill:\n",
        "  data[feature].fillna(method='ffill',inplace=True)"
      ],
      "metadata": {
        "id": "AyYlHkNoQ-A3"
      },
      "execution_count": 18,
      "outputs": []
    },
    {
      "cell_type": "code",
      "source": [
        "for feature in bfill:\n",
        "  data[feature].fillna(method='bfill',inplace=True)"
      ],
      "metadata": {
        "id": "ABdK_wRkRAPA"
      },
      "execution_count": 19,
      "outputs": []
    },
    {
      "cell_type": "markdown",
      "source": [
        "Check for any features that may have missing values"
      ],
      "metadata": {
        "id": "n0D0WBMCRiEj"
      }
    },
    {
      "cell_type": "code",
      "source": [
        "data.isna().any()"
      ],
      "metadata": {
        "colab": {
          "base_uri": "https://localhost:8080/"
        },
        "id": "tSfGR7xKRmU9",
        "outputId": "c496eb00-14a9-4655-bdab-192771353813"
      },
      "execution_count": 20,
      "outputs": [
        {
          "output_type": "execute_result",
          "data": {
            "text/plain": [
              "MSSubClass       False\n",
              "MSZoning         False\n",
              "LotFrontage      False\n",
              "LotArea          False\n",
              "Street           False\n",
              "                 ...  \n",
              "MoSold           False\n",
              "YrSold           False\n",
              "SaleType         False\n",
              "SaleCondition    False\n",
              "SalePrice        False\n",
              "Length: 76, dtype: bool"
            ]
          },
          "metadata": {},
          "execution_count": 20
        }
      ]
    },
    {
      "cell_type": "markdown",
      "source": [
        "## 3.Encode the dataset"
      ],
      "metadata": {
        "id": "Ju9dWMfcRtGQ"
      }
    },
    {
      "cell_type": "markdown",
      "source": [
        "Find out the datatypes present in the data"
      ],
      "metadata": {
        "id": "JHNud67ZSC9I"
      }
    },
    {
      "cell_type": "code",
      "source": [
        "data.dtypes"
      ],
      "metadata": {
        "colab": {
          "base_uri": "https://localhost:8080/"
        },
        "id": "kpgHdfpNR37D",
        "outputId": "02f5f775-1c64-409d-a75c-67dec6c75359"
      },
      "execution_count": 21,
      "outputs": [
        {
          "output_type": "execute_result",
          "data": {
            "text/plain": [
              "MSSubClass         int64\n",
              "MSZoning          object\n",
              "LotFrontage      float64\n",
              "LotArea            int64\n",
              "Street            object\n",
              "                  ...   \n",
              "MoSold             int64\n",
              "YrSold             int64\n",
              "SaleType          object\n",
              "SaleCondition     object\n",
              "SalePrice          int64\n",
              "Length: 76, dtype: object"
            ]
          },
          "metadata": {},
          "execution_count": 21
        }
      ]
    },
    {
      "cell_type": "markdown",
      "source": [
        "List data that is of type *'object'*"
      ],
      "metadata": {
        "id": "r6sR-guUSmer"
      }
    },
    {
      "cell_type": "code",
      "source": [
        "data_categories=data.select_dtypes(include=['object']).copy()\n",
        "data_categories.head(2)"
      ],
      "metadata": {
        "colab": {
          "base_uri": "https://localhost:8080/",
          "height": 205
        },
        "id": "M1C1VB_NR_JW",
        "outputId": "9c43ca4a-c92c-422a-ab11-496fd44b259a"
      },
      "execution_count": 22,
      "outputs": [
        {
          "output_type": "execute_result",
          "data": {
            "text/plain": [
              "  MSZoning Street LotShape LandContour Utilities LotConfig LandSlope  \\\n",
              "0       RL   Pave      Reg         Lvl    AllPub    Inside       Gtl   \n",
              "1       RL   Pave      Reg         Lvl    AllPub       FR2       Gtl   \n",
              "\n",
              "  Neighborhood Condition1 Condition2  ... KitchenQual Functional FireplaceQu  \\\n",
              "0      CollgCr       Norm       Norm  ...          Gd        Typ          TA   \n",
              "1      Veenker      Feedr       Norm  ...          TA        Typ          TA   \n",
              "\n",
              "  GarageType GarageFinish GarageQual GarageCond PavedDrive SaleType  \\\n",
              "0     Attchd          RFn         TA         TA          Y       WD   \n",
              "1     Attchd          RFn         TA         TA          Y       WD   \n",
              "\n",
              "  SaleCondition  \n",
              "0        Normal  \n",
              "1        Normal  \n",
              "\n",
              "[2 rows x 39 columns]"
            ],
            "text/html": [
              "\n",
              "  <div id=\"df-9c4910d8-dc52-466b-aff8-77dae2440953\">\n",
              "    <div class=\"colab-df-container\">\n",
              "      <div>\n",
              "<style scoped>\n",
              "    .dataframe tbody tr th:only-of-type {\n",
              "        vertical-align: middle;\n",
              "    }\n",
              "\n",
              "    .dataframe tbody tr th {\n",
              "        vertical-align: top;\n",
              "    }\n",
              "\n",
              "    .dataframe thead th {\n",
              "        text-align: right;\n",
              "    }\n",
              "</style>\n",
              "<table border=\"1\" class=\"dataframe\">\n",
              "  <thead>\n",
              "    <tr style=\"text-align: right;\">\n",
              "      <th></th>\n",
              "      <th>MSZoning</th>\n",
              "      <th>Street</th>\n",
              "      <th>LotShape</th>\n",
              "      <th>LandContour</th>\n",
              "      <th>Utilities</th>\n",
              "      <th>LotConfig</th>\n",
              "      <th>LandSlope</th>\n",
              "      <th>Neighborhood</th>\n",
              "      <th>Condition1</th>\n",
              "      <th>Condition2</th>\n",
              "      <th>...</th>\n",
              "      <th>KitchenQual</th>\n",
              "      <th>Functional</th>\n",
              "      <th>FireplaceQu</th>\n",
              "      <th>GarageType</th>\n",
              "      <th>GarageFinish</th>\n",
              "      <th>GarageQual</th>\n",
              "      <th>GarageCond</th>\n",
              "      <th>PavedDrive</th>\n",
              "      <th>SaleType</th>\n",
              "      <th>SaleCondition</th>\n",
              "    </tr>\n",
              "  </thead>\n",
              "  <tbody>\n",
              "    <tr>\n",
              "      <th>0</th>\n",
              "      <td>RL</td>\n",
              "      <td>Pave</td>\n",
              "      <td>Reg</td>\n",
              "      <td>Lvl</td>\n",
              "      <td>AllPub</td>\n",
              "      <td>Inside</td>\n",
              "      <td>Gtl</td>\n",
              "      <td>CollgCr</td>\n",
              "      <td>Norm</td>\n",
              "      <td>Norm</td>\n",
              "      <td>...</td>\n",
              "      <td>Gd</td>\n",
              "      <td>Typ</td>\n",
              "      <td>TA</td>\n",
              "      <td>Attchd</td>\n",
              "      <td>RFn</td>\n",
              "      <td>TA</td>\n",
              "      <td>TA</td>\n",
              "      <td>Y</td>\n",
              "      <td>WD</td>\n",
              "      <td>Normal</td>\n",
              "    </tr>\n",
              "    <tr>\n",
              "      <th>1</th>\n",
              "      <td>RL</td>\n",
              "      <td>Pave</td>\n",
              "      <td>Reg</td>\n",
              "      <td>Lvl</td>\n",
              "      <td>AllPub</td>\n",
              "      <td>FR2</td>\n",
              "      <td>Gtl</td>\n",
              "      <td>Veenker</td>\n",
              "      <td>Feedr</td>\n",
              "      <td>Norm</td>\n",
              "      <td>...</td>\n",
              "      <td>TA</td>\n",
              "      <td>Typ</td>\n",
              "      <td>TA</td>\n",
              "      <td>Attchd</td>\n",
              "      <td>RFn</td>\n",
              "      <td>TA</td>\n",
              "      <td>TA</td>\n",
              "      <td>Y</td>\n",
              "      <td>WD</td>\n",
              "      <td>Normal</td>\n",
              "    </tr>\n",
              "  </tbody>\n",
              "</table>\n",
              "<p>2 rows × 39 columns</p>\n",
              "</div>\n",
              "      <button class=\"colab-df-convert\" onclick=\"convertToInteractive('df-9c4910d8-dc52-466b-aff8-77dae2440953')\"\n",
              "              title=\"Convert this dataframe to an interactive table.\"\n",
              "              style=\"display:none;\">\n",
              "        \n",
              "  <svg xmlns=\"http://www.w3.org/2000/svg\" height=\"24px\"viewBox=\"0 0 24 24\"\n",
              "       width=\"24px\">\n",
              "    <path d=\"M0 0h24v24H0V0z\" fill=\"none\"/>\n",
              "    <path d=\"M18.56 5.44l.94 2.06.94-2.06 2.06-.94-2.06-.94-.94-2.06-.94 2.06-2.06.94zm-11 1L8.5 8.5l.94-2.06 2.06-.94-2.06-.94L8.5 2.5l-.94 2.06-2.06.94zm10 10l.94 2.06.94-2.06 2.06-.94-2.06-.94-.94-2.06-.94 2.06-2.06.94z\"/><path d=\"M17.41 7.96l-1.37-1.37c-.4-.4-.92-.59-1.43-.59-.52 0-1.04.2-1.43.59L10.3 9.45l-7.72 7.72c-.78.78-.78 2.05 0 2.83L4 21.41c.39.39.9.59 1.41.59.51 0 1.02-.2 1.41-.59l7.78-7.78 2.81-2.81c.8-.78.8-2.07 0-2.86zM5.41 20L4 18.59l7.72-7.72 1.47 1.35L5.41 20z\"/>\n",
              "  </svg>\n",
              "      </button>\n",
              "      \n",
              "  <style>\n",
              "    .colab-df-container {\n",
              "      display:flex;\n",
              "      flex-wrap:wrap;\n",
              "      gap: 12px;\n",
              "    }\n",
              "\n",
              "    .colab-df-convert {\n",
              "      background-color: #E8F0FE;\n",
              "      border: none;\n",
              "      border-radius: 50%;\n",
              "      cursor: pointer;\n",
              "      display: none;\n",
              "      fill: #1967D2;\n",
              "      height: 32px;\n",
              "      padding: 0 0 0 0;\n",
              "      width: 32px;\n",
              "    }\n",
              "\n",
              "    .colab-df-convert:hover {\n",
              "      background-color: #E2EBFA;\n",
              "      box-shadow: 0px 1px 2px rgba(60, 64, 67, 0.3), 0px 1px 3px 1px rgba(60, 64, 67, 0.15);\n",
              "      fill: #174EA6;\n",
              "    }\n",
              "\n",
              "    [theme=dark] .colab-df-convert {\n",
              "      background-color: #3B4455;\n",
              "      fill: #D2E3FC;\n",
              "    }\n",
              "\n",
              "    [theme=dark] .colab-df-convert:hover {\n",
              "      background-color: #434B5C;\n",
              "      box-shadow: 0px 1px 3px 1px rgba(0, 0, 0, 0.15);\n",
              "      filter: drop-shadow(0px 1px 2px rgba(0, 0, 0, 0.3));\n",
              "      fill: #FFFFFF;\n",
              "    }\n",
              "  </style>\n",
              "\n",
              "      <script>\n",
              "        const buttonEl =\n",
              "          document.querySelector('#df-9c4910d8-dc52-466b-aff8-77dae2440953 button.colab-df-convert');\n",
              "        buttonEl.style.display =\n",
              "          google.colab.kernel.accessAllowed ? 'block' : 'none';\n",
              "\n",
              "        async function convertToInteractive(key) {\n",
              "          const element = document.querySelector('#df-9c4910d8-dc52-466b-aff8-77dae2440953');\n",
              "          const dataTable =\n",
              "            await google.colab.kernel.invokeFunction('convertToInteractive',\n",
              "                                                     [key], {});\n",
              "          if (!dataTable) return;\n",
              "\n",
              "          const docLinkHtml = 'Like what you see? Visit the ' +\n",
              "            '<a target=\"_blank\" href=https://colab.research.google.com/notebooks/data_table.ipynb>data table notebook</a>'\n",
              "            + ' to learn more about interactive tables.';\n",
              "          element.innerHTML = '';\n",
              "          dataTable['output_type'] = 'display_data';\n",
              "          await google.colab.output.renderOutput(dataTable, element);\n",
              "          const docLink = document.createElement('div');\n",
              "          docLink.innerHTML = docLinkHtml;\n",
              "          element.appendChild(docLink);\n",
              "        }\n",
              "      </script>\n",
              "    </div>\n",
              "  </div>\n",
              "  "
            ]
          },
          "metadata": {},
          "execution_count": 22
        }
      ]
    },
    {
      "cell_type": "markdown",
      "source": [
        "List the columns of the data where type is *'object'*"
      ],
      "metadata": {
        "id": "cx3jIcC6StFC"
      }
    },
    {
      "cell_type": "code",
      "source": [
        "category_features=list(data_categories.columns)\n",
        "category_features"
      ],
      "metadata": {
        "colab": {
          "base_uri": "https://localhost:8080/"
        },
        "id": "Voinl7HDSWUX",
        "outputId": "9b2daea8-0e14-49f5-8f8d-2086e14d5602"
      },
      "execution_count": 23,
      "outputs": [
        {
          "output_type": "execute_result",
          "data": {
            "text/plain": [
              "['MSZoning',\n",
              " 'Street',\n",
              " 'LotShape',\n",
              " 'LandContour',\n",
              " 'Utilities',\n",
              " 'LotConfig',\n",
              " 'LandSlope',\n",
              " 'Neighborhood',\n",
              " 'Condition1',\n",
              " 'Condition2',\n",
              " 'BldgType',\n",
              " 'HouseStyle',\n",
              " 'RoofStyle',\n",
              " 'RoofMatl',\n",
              " 'Exterior1st',\n",
              " 'Exterior2nd',\n",
              " 'MasVnrType',\n",
              " 'ExterQual',\n",
              " 'ExterCond',\n",
              " 'Foundation',\n",
              " 'BsmtQual',\n",
              " 'BsmtCond',\n",
              " 'BsmtExposure',\n",
              " 'BsmtFinType1',\n",
              " 'BsmtFinType2',\n",
              " 'Heating',\n",
              " 'HeatingQC',\n",
              " 'CentralAir',\n",
              " 'Electrical',\n",
              " 'KitchenQual',\n",
              " 'Functional',\n",
              " 'FireplaceQu',\n",
              " 'GarageType',\n",
              " 'GarageFinish',\n",
              " 'GarageQual',\n",
              " 'GarageCond',\n",
              " 'PavedDrive',\n",
              " 'SaleType',\n",
              " 'SaleCondition']"
            ]
          },
          "metadata": {},
          "execution_count": 23
        }
      ]
    },
    {
      "cell_type": "markdown",
      "source": [
        "Categories the features into their different classes"
      ],
      "metadata": {
        "id": "JboPuMB7Sze5"
      }
    },
    {
      "cell_type": "code",
      "source": [
        "nominal=['MSZoning','LandContour','LotConfig','Neighborhood']\n",
        "ordinal=list(set(category_features)-set(nominal))\n",
        "numerical=list(set(all_features)-set(category_features))\n",
        "target=['SalePrice']"
      ],
      "metadata": {
        "id": "Y3aTozCqSlHy"
      },
      "execution_count": 24,
      "outputs": []
    },
    {
      "cell_type": "markdown",
      "source": [
        "Encode the data according to their different types"
      ],
      "metadata": {
        "id": "bSk02i6JTCL5"
      }
    },
    {
      "cell_type": "code",
      "source": [
        "for feature in ordinal:\n",
        "  data[feature]=(data[feature].astype('category')).cat.codes"
      ],
      "metadata": {
        "id": "9lhG-Vh_TFZq"
      },
      "execution_count": 25,
      "outputs": []
    },
    {
      "cell_type": "code",
      "source": [
        "df_nominal=pd.get_dummies(data[nominal])\n",
        "df_ordinal=data[ordinal]\n",
        "df_numerical=data[numerical]"
      ],
      "metadata": {
        "id": "_Ohgd3J6TJDh"
      },
      "execution_count": 26,
      "outputs": []
    },
    {
      "cell_type": "code",
      "source": [
        "encoded_data=pd.concat([df_numerical,df_nominal,df_ordinal],axis=1)\n",
        "encoded_data"
      ],
      "metadata": {
        "colab": {
          "base_uri": "https://localhost:8080/",
          "height": 488
        },
        "id": "wjqiCxxzTTwC",
        "outputId": "287fd458-cf4c-4a18-b3ae-bea1cb4c2ebf"
      },
      "execution_count": 47,
      "outputs": [
        {
          "output_type": "execute_result",
          "data": {
            "text/plain": [
              "      MSSubClass  1stFlrSF  YrSold  3SsnPorch  LotArea  PoolArea  BsmtFinSF1  \\\n",
              "0             60       856    2008          0     8450         0         706   \n",
              "1             20      1262    2007          0     9600         0         978   \n",
              "2             60       920    2008          0    11250         0         486   \n",
              "3             70       961    2006          0     9550         0         216   \n",
              "4             60      1145    2008          0    14260         0         655   \n",
              "...          ...       ...     ...        ...      ...       ...         ...   \n",
              "1455          60       953    2007          0     7917         0           0   \n",
              "1456          20      2073    2010          0    13175         0         790   \n",
              "1457          70      1188    2010          0     9042         0         275   \n",
              "1458          20      1078    2010          0     9717         0          49   \n",
              "1459          20      1256    2008          0     9937         0         830   \n",
              "\n",
              "      BsmtFinSF2  TotRmsAbvGrd  SalePrice  ...  BsmtFinType1  BsmtFinType2  \\\n",
              "0              0             8     208500  ...             2             5   \n",
              "1              0             6     181500  ...             0             5   \n",
              "2              0             6     223500  ...             2             5   \n",
              "3              0             7     140000  ...             0             5   \n",
              "4              0             9     250000  ...             2             5   \n",
              "...          ...           ...        ...  ...           ...           ...   \n",
              "1455           0             7     175000  ...             5             5   \n",
              "1456         163             7     210000  ...             0             4   \n",
              "1457           0             9     266500  ...             2             5   \n",
              "1458        1029             5     142125  ...             2             4   \n",
              "1459         290             6     147500  ...             1             3   \n",
              "\n",
              "      GarageFinish  ExterCond  PavedDrive  Electrical  Condition1  ExterQual  \\\n",
              "0                1          4           2           4           2          2   \n",
              "1                1          4           2           4           1          3   \n",
              "2                1          4           2           4           2          2   \n",
              "3                2          4           2           4           2          3   \n",
              "4                1          4           2           4           2          2   \n",
              "...            ...        ...         ...         ...         ...        ...   \n",
              "1455             1          4           2           4           2          3   \n",
              "1456             2          4           2           4           2          3   \n",
              "1457             1          2           2           4           2          0   \n",
              "1458             2          4           2           0           2          3   \n",
              "1459             0          4           2           4           2          2   \n",
              "\n",
              "      CentralAir  Street  \n",
              "0              1       1  \n",
              "1              1       1  \n",
              "2              1       1  \n",
              "3              1       1  \n",
              "4              1       1  \n",
              "...          ...     ...  \n",
              "1455           1       1  \n",
              "1456           1       1  \n",
              "1457           1       1  \n",
              "1458           1       1  \n",
              "1459           1       1  \n",
              "\n",
              "[1460 rows x 111 columns]"
            ],
            "text/html": [
              "\n",
              "  <div id=\"df-75bbc10c-6c56-49ec-bbff-5385c98c7f4e\">\n",
              "    <div class=\"colab-df-container\">\n",
              "      <div>\n",
              "<style scoped>\n",
              "    .dataframe tbody tr th:only-of-type {\n",
              "        vertical-align: middle;\n",
              "    }\n",
              "\n",
              "    .dataframe tbody tr th {\n",
              "        vertical-align: top;\n",
              "    }\n",
              "\n",
              "    .dataframe thead th {\n",
              "        text-align: right;\n",
              "    }\n",
              "</style>\n",
              "<table border=\"1\" class=\"dataframe\">\n",
              "  <thead>\n",
              "    <tr style=\"text-align: right;\">\n",
              "      <th></th>\n",
              "      <th>MSSubClass</th>\n",
              "      <th>1stFlrSF</th>\n",
              "      <th>YrSold</th>\n",
              "      <th>3SsnPorch</th>\n",
              "      <th>LotArea</th>\n",
              "      <th>PoolArea</th>\n",
              "      <th>BsmtFinSF1</th>\n",
              "      <th>BsmtFinSF2</th>\n",
              "      <th>TotRmsAbvGrd</th>\n",
              "      <th>SalePrice</th>\n",
              "      <th>...</th>\n",
              "      <th>BsmtFinType1</th>\n",
              "      <th>BsmtFinType2</th>\n",
              "      <th>GarageFinish</th>\n",
              "      <th>ExterCond</th>\n",
              "      <th>PavedDrive</th>\n",
              "      <th>Electrical</th>\n",
              "      <th>Condition1</th>\n",
              "      <th>ExterQual</th>\n",
              "      <th>CentralAir</th>\n",
              "      <th>Street</th>\n",
              "    </tr>\n",
              "  </thead>\n",
              "  <tbody>\n",
              "    <tr>\n",
              "      <th>0</th>\n",
              "      <td>60</td>\n",
              "      <td>856</td>\n",
              "      <td>2008</td>\n",
              "      <td>0</td>\n",
              "      <td>8450</td>\n",
              "      <td>0</td>\n",
              "      <td>706</td>\n",
              "      <td>0</td>\n",
              "      <td>8</td>\n",
              "      <td>208500</td>\n",
              "      <td>...</td>\n",
              "      <td>2</td>\n",
              "      <td>5</td>\n",
              "      <td>1</td>\n",
              "      <td>4</td>\n",
              "      <td>2</td>\n",
              "      <td>4</td>\n",
              "      <td>2</td>\n",
              "      <td>2</td>\n",
              "      <td>1</td>\n",
              "      <td>1</td>\n",
              "    </tr>\n",
              "    <tr>\n",
              "      <th>1</th>\n",
              "      <td>20</td>\n",
              "      <td>1262</td>\n",
              "      <td>2007</td>\n",
              "      <td>0</td>\n",
              "      <td>9600</td>\n",
              "      <td>0</td>\n",
              "      <td>978</td>\n",
              "      <td>0</td>\n",
              "      <td>6</td>\n",
              "      <td>181500</td>\n",
              "      <td>...</td>\n",
              "      <td>0</td>\n",
              "      <td>5</td>\n",
              "      <td>1</td>\n",
              "      <td>4</td>\n",
              "      <td>2</td>\n",
              "      <td>4</td>\n",
              "      <td>1</td>\n",
              "      <td>3</td>\n",
              "      <td>1</td>\n",
              "      <td>1</td>\n",
              "    </tr>\n",
              "    <tr>\n",
              "      <th>2</th>\n",
              "      <td>60</td>\n",
              "      <td>920</td>\n",
              "      <td>2008</td>\n",
              "      <td>0</td>\n",
              "      <td>11250</td>\n",
              "      <td>0</td>\n",
              "      <td>486</td>\n",
              "      <td>0</td>\n",
              "      <td>6</td>\n",
              "      <td>223500</td>\n",
              "      <td>...</td>\n",
              "      <td>2</td>\n",
              "      <td>5</td>\n",
              "      <td>1</td>\n",
              "      <td>4</td>\n",
              "      <td>2</td>\n",
              "      <td>4</td>\n",
              "      <td>2</td>\n",
              "      <td>2</td>\n",
              "      <td>1</td>\n",
              "      <td>1</td>\n",
              "    </tr>\n",
              "    <tr>\n",
              "      <th>3</th>\n",
              "      <td>70</td>\n",
              "      <td>961</td>\n",
              "      <td>2006</td>\n",
              "      <td>0</td>\n",
              "      <td>9550</td>\n",
              "      <td>0</td>\n",
              "      <td>216</td>\n",
              "      <td>0</td>\n",
              "      <td>7</td>\n",
              "      <td>140000</td>\n",
              "      <td>...</td>\n",
              "      <td>0</td>\n",
              "      <td>5</td>\n",
              "      <td>2</td>\n",
              "      <td>4</td>\n",
              "      <td>2</td>\n",
              "      <td>4</td>\n",
              "      <td>2</td>\n",
              "      <td>3</td>\n",
              "      <td>1</td>\n",
              "      <td>1</td>\n",
              "    </tr>\n",
              "    <tr>\n",
              "      <th>4</th>\n",
              "      <td>60</td>\n",
              "      <td>1145</td>\n",
              "      <td>2008</td>\n",
              "      <td>0</td>\n",
              "      <td>14260</td>\n",
              "      <td>0</td>\n",
              "      <td>655</td>\n",
              "      <td>0</td>\n",
              "      <td>9</td>\n",
              "      <td>250000</td>\n",
              "      <td>...</td>\n",
              "      <td>2</td>\n",
              "      <td>5</td>\n",
              "      <td>1</td>\n",
              "      <td>4</td>\n",
              "      <td>2</td>\n",
              "      <td>4</td>\n",
              "      <td>2</td>\n",
              "      <td>2</td>\n",
              "      <td>1</td>\n",
              "      <td>1</td>\n",
              "    </tr>\n",
              "    <tr>\n",
              "      <th>...</th>\n",
              "      <td>...</td>\n",
              "      <td>...</td>\n",
              "      <td>...</td>\n",
              "      <td>...</td>\n",
              "      <td>...</td>\n",
              "      <td>...</td>\n",
              "      <td>...</td>\n",
              "      <td>...</td>\n",
              "      <td>...</td>\n",
              "      <td>...</td>\n",
              "      <td>...</td>\n",
              "      <td>...</td>\n",
              "      <td>...</td>\n",
              "      <td>...</td>\n",
              "      <td>...</td>\n",
              "      <td>...</td>\n",
              "      <td>...</td>\n",
              "      <td>...</td>\n",
              "      <td>...</td>\n",
              "      <td>...</td>\n",
              "      <td>...</td>\n",
              "    </tr>\n",
              "    <tr>\n",
              "      <th>1455</th>\n",
              "      <td>60</td>\n",
              "      <td>953</td>\n",
              "      <td>2007</td>\n",
              "      <td>0</td>\n",
              "      <td>7917</td>\n",
              "      <td>0</td>\n",
              "      <td>0</td>\n",
              "      <td>0</td>\n",
              "      <td>7</td>\n",
              "      <td>175000</td>\n",
              "      <td>...</td>\n",
              "      <td>5</td>\n",
              "      <td>5</td>\n",
              "      <td>1</td>\n",
              "      <td>4</td>\n",
              "      <td>2</td>\n",
              "      <td>4</td>\n",
              "      <td>2</td>\n",
              "      <td>3</td>\n",
              "      <td>1</td>\n",
              "      <td>1</td>\n",
              "    </tr>\n",
              "    <tr>\n",
              "      <th>1456</th>\n",
              "      <td>20</td>\n",
              "      <td>2073</td>\n",
              "      <td>2010</td>\n",
              "      <td>0</td>\n",
              "      <td>13175</td>\n",
              "      <td>0</td>\n",
              "      <td>790</td>\n",
              "      <td>163</td>\n",
              "      <td>7</td>\n",
              "      <td>210000</td>\n",
              "      <td>...</td>\n",
              "      <td>0</td>\n",
              "      <td>4</td>\n",
              "      <td>2</td>\n",
              "      <td>4</td>\n",
              "      <td>2</td>\n",
              "      <td>4</td>\n",
              "      <td>2</td>\n",
              "      <td>3</td>\n",
              "      <td>1</td>\n",
              "      <td>1</td>\n",
              "    </tr>\n",
              "    <tr>\n",
              "      <th>1457</th>\n",
              "      <td>70</td>\n",
              "      <td>1188</td>\n",
              "      <td>2010</td>\n",
              "      <td>0</td>\n",
              "      <td>9042</td>\n",
              "      <td>0</td>\n",
              "      <td>275</td>\n",
              "      <td>0</td>\n",
              "      <td>9</td>\n",
              "      <td>266500</td>\n",
              "      <td>...</td>\n",
              "      <td>2</td>\n",
              "      <td>5</td>\n",
              "      <td>1</td>\n",
              "      <td>2</td>\n",
              "      <td>2</td>\n",
              "      <td>4</td>\n",
              "      <td>2</td>\n",
              "      <td>0</td>\n",
              "      <td>1</td>\n",
              "      <td>1</td>\n",
              "    </tr>\n",
              "    <tr>\n",
              "      <th>1458</th>\n",
              "      <td>20</td>\n",
              "      <td>1078</td>\n",
              "      <td>2010</td>\n",
              "      <td>0</td>\n",
              "      <td>9717</td>\n",
              "      <td>0</td>\n",
              "      <td>49</td>\n",
              "      <td>1029</td>\n",
              "      <td>5</td>\n",
              "      <td>142125</td>\n",
              "      <td>...</td>\n",
              "      <td>2</td>\n",
              "      <td>4</td>\n",
              "      <td>2</td>\n",
              "      <td>4</td>\n",
              "      <td>2</td>\n",
              "      <td>0</td>\n",
              "      <td>2</td>\n",
              "      <td>3</td>\n",
              "      <td>1</td>\n",
              "      <td>1</td>\n",
              "    </tr>\n",
              "    <tr>\n",
              "      <th>1459</th>\n",
              "      <td>20</td>\n",
              "      <td>1256</td>\n",
              "      <td>2008</td>\n",
              "      <td>0</td>\n",
              "      <td>9937</td>\n",
              "      <td>0</td>\n",
              "      <td>830</td>\n",
              "      <td>290</td>\n",
              "      <td>6</td>\n",
              "      <td>147500</td>\n",
              "      <td>...</td>\n",
              "      <td>1</td>\n",
              "      <td>3</td>\n",
              "      <td>0</td>\n",
              "      <td>4</td>\n",
              "      <td>2</td>\n",
              "      <td>4</td>\n",
              "      <td>2</td>\n",
              "      <td>2</td>\n",
              "      <td>1</td>\n",
              "      <td>1</td>\n",
              "    </tr>\n",
              "  </tbody>\n",
              "</table>\n",
              "<p>1460 rows × 111 columns</p>\n",
              "</div>\n",
              "      <button class=\"colab-df-convert\" onclick=\"convertToInteractive('df-75bbc10c-6c56-49ec-bbff-5385c98c7f4e')\"\n",
              "              title=\"Convert this dataframe to an interactive table.\"\n",
              "              style=\"display:none;\">\n",
              "        \n",
              "  <svg xmlns=\"http://www.w3.org/2000/svg\" height=\"24px\"viewBox=\"0 0 24 24\"\n",
              "       width=\"24px\">\n",
              "    <path d=\"M0 0h24v24H0V0z\" fill=\"none\"/>\n",
              "    <path d=\"M18.56 5.44l.94 2.06.94-2.06 2.06-.94-2.06-.94-.94-2.06-.94 2.06-2.06.94zm-11 1L8.5 8.5l.94-2.06 2.06-.94-2.06-.94L8.5 2.5l-.94 2.06-2.06.94zm10 10l.94 2.06.94-2.06 2.06-.94-2.06-.94-.94-2.06-.94 2.06-2.06.94z\"/><path d=\"M17.41 7.96l-1.37-1.37c-.4-.4-.92-.59-1.43-.59-.52 0-1.04.2-1.43.59L10.3 9.45l-7.72 7.72c-.78.78-.78 2.05 0 2.83L4 21.41c.39.39.9.59 1.41.59.51 0 1.02-.2 1.41-.59l7.78-7.78 2.81-2.81c.8-.78.8-2.07 0-2.86zM5.41 20L4 18.59l7.72-7.72 1.47 1.35L5.41 20z\"/>\n",
              "  </svg>\n",
              "      </button>\n",
              "      \n",
              "  <style>\n",
              "    .colab-df-container {\n",
              "      display:flex;\n",
              "      flex-wrap:wrap;\n",
              "      gap: 12px;\n",
              "    }\n",
              "\n",
              "    .colab-df-convert {\n",
              "      background-color: #E8F0FE;\n",
              "      border: none;\n",
              "      border-radius: 50%;\n",
              "      cursor: pointer;\n",
              "      display: none;\n",
              "      fill: #1967D2;\n",
              "      height: 32px;\n",
              "      padding: 0 0 0 0;\n",
              "      width: 32px;\n",
              "    }\n",
              "\n",
              "    .colab-df-convert:hover {\n",
              "      background-color: #E2EBFA;\n",
              "      box-shadow: 0px 1px 2px rgba(60, 64, 67, 0.3), 0px 1px 3px 1px rgba(60, 64, 67, 0.15);\n",
              "      fill: #174EA6;\n",
              "    }\n",
              "\n",
              "    [theme=dark] .colab-df-convert {\n",
              "      background-color: #3B4455;\n",
              "      fill: #D2E3FC;\n",
              "    }\n",
              "\n",
              "    [theme=dark] .colab-df-convert:hover {\n",
              "      background-color: #434B5C;\n",
              "      box-shadow: 0px 1px 3px 1px rgba(0, 0, 0, 0.15);\n",
              "      filter: drop-shadow(0px 1px 2px rgba(0, 0, 0, 0.3));\n",
              "      fill: #FFFFFF;\n",
              "    }\n",
              "  </style>\n",
              "\n",
              "      <script>\n",
              "        const buttonEl =\n",
              "          document.querySelector('#df-75bbc10c-6c56-49ec-bbff-5385c98c7f4e button.colab-df-convert');\n",
              "        buttonEl.style.display =\n",
              "          google.colab.kernel.accessAllowed ? 'block' : 'none';\n",
              "\n",
              "        async function convertToInteractive(key) {\n",
              "          const element = document.querySelector('#df-75bbc10c-6c56-49ec-bbff-5385c98c7f4e');\n",
              "          const dataTable =\n",
              "            await google.colab.kernel.invokeFunction('convertToInteractive',\n",
              "                                                     [key], {});\n",
              "          if (!dataTable) return;\n",
              "\n",
              "          const docLinkHtml = 'Like what you see? Visit the ' +\n",
              "            '<a target=\"_blank\" href=https://colab.research.google.com/notebooks/data_table.ipynb>data table notebook</a>'\n",
              "            + ' to learn more about interactive tables.';\n",
              "          element.innerHTML = '';\n",
              "          dataTable['output_type'] = 'display_data';\n",
              "          await google.colab.output.renderOutput(dataTable, element);\n",
              "          const docLink = document.createElement('div');\n",
              "          docLink.innerHTML = docLinkHtml;\n",
              "          element.appendChild(docLink);\n",
              "        }\n",
              "      </script>\n",
              "    </div>\n",
              "  </div>\n",
              "  "
            ]
          },
          "metadata": {},
          "execution_count": 47
        }
      ]
    },
    {
      "cell_type": "code",
      "source": [
        "encoded_data.shape"
      ],
      "metadata": {
        "colab": {
          "base_uri": "https://localhost:8080/"
        },
        "id": "668LpsFhTeAM",
        "outputId": "b148759f-dd4b-4533-ab8f-1efd96aa929b"
      },
      "execution_count": 28,
      "outputs": [
        {
          "output_type": "execute_result",
          "data": {
            "text/plain": [
              "(1460, 111)"
            ]
          },
          "metadata": {},
          "execution_count": 28
        }
      ]
    },
    {
      "cell_type": "markdown",
      "source": [
        "## 4.Standardize the dataset"
      ],
      "metadata": {
        "id": "pDk40-RaTe1x"
      }
    },
    {
      "cell_type": "code",
      "source": [
        "encoded_data.drop('SalePrice',axis=1,inplace=True)"
      ],
      "metadata": {
        "id": "LLK-kaHzUZzU"
      },
      "execution_count": 29,
      "outputs": []
    },
    {
      "cell_type": "code",
      "source": [
        "X=encoded_data.to_numpy()"
      ],
      "metadata": {
        "id": "WhvnoX9VUpDl"
      },
      "execution_count": 30,
      "outputs": []
    },
    {
      "cell_type": "code",
      "source": [
        "X[0]"
      ],
      "metadata": {
        "colab": {
          "base_uri": "https://localhost:8080/"
        },
        "id": "-Axr88BKUtHo",
        "outputId": "a4e95fcd-5ec7-4ded-fff0-f3b5fc7879e3"
      },
      "execution_count": 31,
      "outputs": [
        {
          "output_type": "execute_result",
          "data": {
            "text/plain": [
              "array([6.000e+01, 8.560e+02, 2.008e+03, 0.000e+00, 8.450e+03, 0.000e+00,\n",
              "       7.060e+02, 0.000e+00, 8.000e+00, 2.000e+00, 7.000e+00, 0.000e+00,\n",
              "       1.000e+00, 2.003e+03, 2.003e+03, 1.710e+03, 1.960e+02, 1.000e+00,\n",
              "       0.000e+00, 2.000e+00, 0.000e+00, 5.000e+00, 6.500e+01, 8.560e+02,\n",
              "       0.000e+00, 0.000e+00, 3.000e+00, 2.003e+03, 0.000e+00, 6.100e+01,\n",
              "       0.000e+00, 1.000e+00, 5.480e+02, 1.500e+02, 8.540e+02, 2.000e+00,\n",
              "       0.000e+00, 0.000e+00, 0.000e+00, 1.000e+00, 0.000e+00, 0.000e+00,\n",
              "       0.000e+00, 0.000e+00, 1.000e+00, 0.000e+00, 0.000e+00, 0.000e+00,\n",
              "       0.000e+00, 1.000e+00, 0.000e+00, 0.000e+00, 0.000e+00, 0.000e+00,\n",
              "       0.000e+00, 1.000e+00, 0.000e+00, 0.000e+00, 0.000e+00, 0.000e+00,\n",
              "       0.000e+00, 0.000e+00, 0.000e+00, 0.000e+00, 0.000e+00, 0.000e+00,\n",
              "       0.000e+00, 0.000e+00, 0.000e+00, 0.000e+00, 0.000e+00, 0.000e+00,\n",
              "       0.000e+00, 0.000e+00, 0.000e+00, 4.000e+00, 0.000e+00, 8.000e+00,\n",
              "       4.000e+00, 4.000e+00, 2.000e+00, 1.300e+01, 3.000e+00, 1.000e+00,\n",
              "       2.000e+00, 1.000e+00, 6.000e+00, 1.000e+00, 0.000e+00, 2.000e+00,\n",
              "       1.000e+00, 0.000e+00, 5.000e+00, 3.000e+00, 1.000e+00, 4.000e+00,\n",
              "       3.000e+00, 2.000e+00, 1.200e+01, 0.000e+00, 2.000e+00, 5.000e+00,\n",
              "       1.000e+00, 4.000e+00, 2.000e+00, 4.000e+00, 2.000e+00, 2.000e+00,\n",
              "       1.000e+00, 1.000e+00])"
            ]
          },
          "metadata": {},
          "execution_count": 31
        }
      ]
    },
    {
      "cell_type": "code",
      "source": [
        "X=StandardScaler().fit_transform(X)"
      ],
      "metadata": {
        "id": "H07XPaMYUv_c"
      },
      "execution_count": 32,
      "outputs": []
    },
    {
      "cell_type": "code",
      "source": [
        "X[0]"
      ],
      "metadata": {
        "colab": {
          "base_uri": "https://localhost:8080/"
        },
        "id": "ZKrBiZCKU73z",
        "outputId": "42b1e89f-a3e5-4db1-d8b2-852c6c8374ba"
      },
      "execution_count": 33,
      "outputs": [
        {
          "output_type": "execute_result",
          "data": {
            "text/plain": [
              "array([ 0.07337496, -0.79343379,  0.13877749, -0.11633929, -0.20714171,\n",
              "       -0.06869175,  0.57542484, -0.28865283,  0.91220977,  0.78974052,\n",
              "        0.65147924, -0.27020835,  1.10781015,  0.87866809,  0.98587121,\n",
              "        0.37033344,  0.51141841, -0.21145358, -0.12024172,  0.31172464,\n",
              "       -0.08768781, -0.51719981, -0.22937175, -0.45930254, -0.95122649,\n",
              "       -0.75217584,  0.16377912,  1.05099379, -0.24106104,  0.21650316,\n",
              "       -0.3593249 ,  1.22758538,  0.35100032, -0.94459061,  1.16185159,\n",
              "       -1.5991111 , -0.08304548, -0.21585871, -0.10526316,  0.51813339,\n",
              "       -0.41895507, -0.21235968, -0.18831089, -0.15899968,  0.33712564,\n",
              "       -0.46873869, -0.26232433, -0.18238027, -0.05241424,  0.62276215,\n",
              "       -0.10854037, -0.03703704, -0.10526316, -0.20339487, -0.1398323 ,\n",
              "        2.95522137, -0.19025216, -0.27116307, -0.23917551, -0.16124951,\n",
              "       -0.10854037, -0.1863522 , -0.42683279, -0.07875671, -0.22941573,\n",
              "       -0.16998114, -0.23595776, -0.28963792, -0.13199092, -0.23106504,\n",
              "       -0.20521398, -0.25018188, -0.13199092, -0.16347148, -0.08712888,\n",
              "        0.22722806, -0.02618016,  0.31386709,  1.11571093,  0.2085023 ,\n",
              "       -0.2995267 ,  0.75162623,  0.28646832, -0.12579688, -0.40936914,\n",
              "       -0.49151573,  0.25597761, -0.12304604, -0.22571613,  0.83559903,\n",
              "       -0.72327571, -0.41169079,  1.02668924,  0.63807814, -1.23634391,\n",
              "        0.19152118,  0.75073056, -0.03174026,  0.74309239, -0.88465767,\n",
              "       -0.39874065,  0.310256  , -0.22752053,  0.36420746,  0.28974476,\n",
              "        0.30240343, -0.03628912, -0.77797579,  0.26381257,  0.06423821])"
            ]
          },
          "metadata": {},
          "execution_count": 33
        }
      ]
    },
    {
      "cell_type": "code",
      "source": [
        "X.shape"
      ],
      "metadata": {
        "colab": {
          "base_uri": "https://localhost:8080/"
        },
        "id": "aS4lumBqVK0j",
        "outputId": "988f7777-a162-45e5-f43b-d4063d08960c"
      },
      "execution_count": 34,
      "outputs": [
        {
          "output_type": "execute_result",
          "data": {
            "text/plain": [
              "(1460, 110)"
            ]
          },
          "metadata": {},
          "execution_count": 34
        }
      ]
    },
    {
      "cell_type": "code",
      "source": [
        "y=data[target]"
      ],
      "metadata": {
        "id": "7vF7_Z_PU-pJ"
      },
      "execution_count": 35,
      "outputs": []
    },
    {
      "cell_type": "code",
      "source": [
        "y=y.to_numpy()"
      ],
      "metadata": {
        "id": "crVzwk2cVATZ"
      },
      "execution_count": 36,
      "outputs": []
    },
    {
      "cell_type": "code",
      "source": [
        "y.shape"
      ],
      "metadata": {
        "colab": {
          "base_uri": "https://localhost:8080/"
        },
        "id": "R60YyZnaVB0w",
        "outputId": "f962fc20-0895-47e1-f32e-c2c08d71cd85"
      },
      "execution_count": 37,
      "outputs": [
        {
          "output_type": "execute_result",
          "data": {
            "text/plain": [
              "(1460, 1)"
            ]
          },
          "metadata": {},
          "execution_count": 37
        }
      ]
    },
    {
      "cell_type": "code",
      "source": [
        "y"
      ],
      "metadata": {
        "colab": {
          "base_uri": "https://localhost:8080/"
        },
        "id": "ReXLZt_wVEV-",
        "outputId": "78288895-25ad-4724-a08e-acf69b00c2cb"
      },
      "execution_count": 38,
      "outputs": [
        {
          "output_type": "execute_result",
          "data": {
            "text/plain": [
              "array([[208500],\n",
              "       [181500],\n",
              "       [223500],\n",
              "       ...,\n",
              "       [266500],\n",
              "       [142125],\n",
              "       [147500]])"
            ]
          },
          "metadata": {},
          "execution_count": 38
        }
      ]
    },
    {
      "cell_type": "code",
      "source": [
        "y=StandardScaler().fit_transform(y)"
      ],
      "metadata": {
        "id": "xvqcmXbsVGL7"
      },
      "execution_count": 39,
      "outputs": []
    },
    {
      "cell_type": "code",
      "source": [
        "y"
      ],
      "metadata": {
        "colab": {
          "base_uri": "https://localhost:8080/"
        },
        "id": "l_cNXK0dVG3n",
        "outputId": "29718d0d-fde8-4694-d14f-1fc81d18360e"
      },
      "execution_count": 40,
      "outputs": [
        {
          "output_type": "execute_result",
          "data": {
            "text/plain": [
              "array([[ 0.34727322],\n",
              "       [ 0.00728832],\n",
              "       [ 0.53615372],\n",
              "       ...,\n",
              "       [ 1.07761115],\n",
              "       [-0.48852299],\n",
              "       [-0.42084081]])"
            ]
          },
          "metadata": {},
          "execution_count": 40
        }
      ]
    },
    {
      "cell_type": "markdown",
      "source": [
        "## 5.Perform Feature extraction using PCA"
      ],
      "metadata": {
        "id": "j_x9Ix6jTy6K"
      }
    },
    {
      "cell_type": "code",
      "source": [
        "pca=PCA(n_components=2)"
      ],
      "metadata": {
        "id": "FOfx1GSpVtZ7"
      },
      "execution_count": 41,
      "outputs": []
    },
    {
      "cell_type": "code",
      "source": [
        "p_components=pca.fit_transform(X)"
      ],
      "metadata": {
        "id": "nInNZLd5VxoS"
      },
      "execution_count": 42,
      "outputs": []
    },
    {
      "cell_type": "code",
      "source": [
        "p_components"
      ],
      "metadata": {
        "colab": {
          "base_uri": "https://localhost:8080/"
        },
        "id": "iDIaWubeVyIV",
        "outputId": "55ea52d4-640a-419f-ec42-4d918068d8d1"
      },
      "execution_count": 43,
      "outputs": [
        {
          "output_type": "execute_result",
          "data": {
            "text/plain": [
              "array([[ 2.40853194, -1.32904146],\n",
              "       [ 0.43196163,  2.62162228],\n",
              "       [ 2.82844136, -0.8541628 ],\n",
              "       ...,\n",
              "       [ 1.25988457, -0.86553734],\n",
              "       [-2.83065744,  3.18170989],\n",
              "       [-0.75664282,  2.68171626]])"
            ]
          },
          "metadata": {},
          "execution_count": 43
        }
      ]
    },
    {
      "cell_type": "code",
      "source": [
        "pca.explained_variance_ratio_"
      ],
      "metadata": {
        "colab": {
          "base_uri": "https://localhost:8080/"
        },
        "id": "2UijKvKnV1R7",
        "outputId": "78e6ca2e-6fd5-4a03-bacd-9a2e2613c3f4"
      },
      "execution_count": 44,
      "outputs": [
        {
          "output_type": "execute_result",
          "data": {
            "text/plain": [
              "array([0.10207313, 0.04345606])"
            ]
          },
          "metadata": {},
          "execution_count": 44
        }
      ]
    },
    {
      "cell_type": "markdown",
      "source": [
        "Visualize the data"
      ],
      "metadata": {
        "id": "Hzff6yFJWYzA"
      }
    },
    {
      "cell_type": "code",
      "source": [
        "pca_data = pd.DataFrame(p_components,columns=['PC1','PC2'])\n",
        "target_data = pd.DataFrame(y,columns=['SalePrice'])\n",
        "final_data = pd.concat([pca_data,target_data],axis=1)\n",
        "final_data"
      ],
      "metadata": {
        "colab": {
          "base_uri": "https://localhost:8080/",
          "height": 424
        },
        "id": "bRlSZb4aWaVn",
        "outputId": "52344725-65dd-422c-e825-832c2eae9aef"
      },
      "execution_count": 45,
      "outputs": [
        {
          "output_type": "execute_result",
          "data": {
            "text/plain": [
              "           PC1       PC2  SalePrice\n",
              "0     2.408532 -1.329041   0.347273\n",
              "1     0.431962  2.621622   0.007288\n",
              "2     2.828441 -0.854163   0.536154\n",
              "3    -1.364215  0.551246  -0.515281\n",
              "4     5.311981 -0.221937   0.869843\n",
              "...        ...       ...        ...\n",
              "1455  1.306603 -2.289603  -0.074560\n",
              "1456  1.095839  3.177273   0.366161\n",
              "1457  1.259885 -0.865537   1.077611\n",
              "1458 -2.830657  3.181710  -0.488523\n",
              "1459 -0.756643  2.681716  -0.420841\n",
              "\n",
              "[1460 rows x 3 columns]"
            ],
            "text/html": [
              "\n",
              "  <div id=\"df-61465cb7-6b5a-47e3-946b-e9c236e7d1a3\">\n",
              "    <div class=\"colab-df-container\">\n",
              "      <div>\n",
              "<style scoped>\n",
              "    .dataframe tbody tr th:only-of-type {\n",
              "        vertical-align: middle;\n",
              "    }\n",
              "\n",
              "    .dataframe tbody tr th {\n",
              "        vertical-align: top;\n",
              "    }\n",
              "\n",
              "    .dataframe thead th {\n",
              "        text-align: right;\n",
              "    }\n",
              "</style>\n",
              "<table border=\"1\" class=\"dataframe\">\n",
              "  <thead>\n",
              "    <tr style=\"text-align: right;\">\n",
              "      <th></th>\n",
              "      <th>PC1</th>\n",
              "      <th>PC2</th>\n",
              "      <th>SalePrice</th>\n",
              "    </tr>\n",
              "  </thead>\n",
              "  <tbody>\n",
              "    <tr>\n",
              "      <th>0</th>\n",
              "      <td>2.408532</td>\n",
              "      <td>-1.329041</td>\n",
              "      <td>0.347273</td>\n",
              "    </tr>\n",
              "    <tr>\n",
              "      <th>1</th>\n",
              "      <td>0.431962</td>\n",
              "      <td>2.621622</td>\n",
              "      <td>0.007288</td>\n",
              "    </tr>\n",
              "    <tr>\n",
              "      <th>2</th>\n",
              "      <td>2.828441</td>\n",
              "      <td>-0.854163</td>\n",
              "      <td>0.536154</td>\n",
              "    </tr>\n",
              "    <tr>\n",
              "      <th>3</th>\n",
              "      <td>-1.364215</td>\n",
              "      <td>0.551246</td>\n",
              "      <td>-0.515281</td>\n",
              "    </tr>\n",
              "    <tr>\n",
              "      <th>4</th>\n",
              "      <td>5.311981</td>\n",
              "      <td>-0.221937</td>\n",
              "      <td>0.869843</td>\n",
              "    </tr>\n",
              "    <tr>\n",
              "      <th>...</th>\n",
              "      <td>...</td>\n",
              "      <td>...</td>\n",
              "      <td>...</td>\n",
              "    </tr>\n",
              "    <tr>\n",
              "      <th>1455</th>\n",
              "      <td>1.306603</td>\n",
              "      <td>-2.289603</td>\n",
              "      <td>-0.074560</td>\n",
              "    </tr>\n",
              "    <tr>\n",
              "      <th>1456</th>\n",
              "      <td>1.095839</td>\n",
              "      <td>3.177273</td>\n",
              "      <td>0.366161</td>\n",
              "    </tr>\n",
              "    <tr>\n",
              "      <th>1457</th>\n",
              "      <td>1.259885</td>\n",
              "      <td>-0.865537</td>\n",
              "      <td>1.077611</td>\n",
              "    </tr>\n",
              "    <tr>\n",
              "      <th>1458</th>\n",
              "      <td>-2.830657</td>\n",
              "      <td>3.181710</td>\n",
              "      <td>-0.488523</td>\n",
              "    </tr>\n",
              "    <tr>\n",
              "      <th>1459</th>\n",
              "      <td>-0.756643</td>\n",
              "      <td>2.681716</td>\n",
              "      <td>-0.420841</td>\n",
              "    </tr>\n",
              "  </tbody>\n",
              "</table>\n",
              "<p>1460 rows × 3 columns</p>\n",
              "</div>\n",
              "      <button class=\"colab-df-convert\" onclick=\"convertToInteractive('df-61465cb7-6b5a-47e3-946b-e9c236e7d1a3')\"\n",
              "              title=\"Convert this dataframe to an interactive table.\"\n",
              "              style=\"display:none;\">\n",
              "        \n",
              "  <svg xmlns=\"http://www.w3.org/2000/svg\" height=\"24px\"viewBox=\"0 0 24 24\"\n",
              "       width=\"24px\">\n",
              "    <path d=\"M0 0h24v24H0V0z\" fill=\"none\"/>\n",
              "    <path d=\"M18.56 5.44l.94 2.06.94-2.06 2.06-.94-2.06-.94-.94-2.06-.94 2.06-2.06.94zm-11 1L8.5 8.5l.94-2.06 2.06-.94-2.06-.94L8.5 2.5l-.94 2.06-2.06.94zm10 10l.94 2.06.94-2.06 2.06-.94-2.06-.94-.94-2.06-.94 2.06-2.06.94z\"/><path d=\"M17.41 7.96l-1.37-1.37c-.4-.4-.92-.59-1.43-.59-.52 0-1.04.2-1.43.59L10.3 9.45l-7.72 7.72c-.78.78-.78 2.05 0 2.83L4 21.41c.39.39.9.59 1.41.59.51 0 1.02-.2 1.41-.59l7.78-7.78 2.81-2.81c.8-.78.8-2.07 0-2.86zM5.41 20L4 18.59l7.72-7.72 1.47 1.35L5.41 20z\"/>\n",
              "  </svg>\n",
              "      </button>\n",
              "      \n",
              "  <style>\n",
              "    .colab-df-container {\n",
              "      display:flex;\n",
              "      flex-wrap:wrap;\n",
              "      gap: 12px;\n",
              "    }\n",
              "\n",
              "    .colab-df-convert {\n",
              "      background-color: #E8F0FE;\n",
              "      border: none;\n",
              "      border-radius: 50%;\n",
              "      cursor: pointer;\n",
              "      display: none;\n",
              "      fill: #1967D2;\n",
              "      height: 32px;\n",
              "      padding: 0 0 0 0;\n",
              "      width: 32px;\n",
              "    }\n",
              "\n",
              "    .colab-df-convert:hover {\n",
              "      background-color: #E2EBFA;\n",
              "      box-shadow: 0px 1px 2px rgba(60, 64, 67, 0.3), 0px 1px 3px 1px rgba(60, 64, 67, 0.15);\n",
              "      fill: #174EA6;\n",
              "    }\n",
              "\n",
              "    [theme=dark] .colab-df-convert {\n",
              "      background-color: #3B4455;\n",
              "      fill: #D2E3FC;\n",
              "    }\n",
              "\n",
              "    [theme=dark] .colab-df-convert:hover {\n",
              "      background-color: #434B5C;\n",
              "      box-shadow: 0px 1px 3px 1px rgba(0, 0, 0, 0.15);\n",
              "      filter: drop-shadow(0px 1px 2px rgba(0, 0, 0, 0.3));\n",
              "      fill: #FFFFFF;\n",
              "    }\n",
              "  </style>\n",
              "\n",
              "      <script>\n",
              "        const buttonEl =\n",
              "          document.querySelector('#df-61465cb7-6b5a-47e3-946b-e9c236e7d1a3 button.colab-df-convert');\n",
              "        buttonEl.style.display =\n",
              "          google.colab.kernel.accessAllowed ? 'block' : 'none';\n",
              "\n",
              "        async function convertToInteractive(key) {\n",
              "          const element = document.querySelector('#df-61465cb7-6b5a-47e3-946b-e9c236e7d1a3');\n",
              "          const dataTable =\n",
              "            await google.colab.kernel.invokeFunction('convertToInteractive',\n",
              "                                                     [key], {});\n",
              "          if (!dataTable) return;\n",
              "\n",
              "          const docLinkHtml = 'Like what you see? Visit the ' +\n",
              "            '<a target=\"_blank\" href=https://colab.research.google.com/notebooks/data_table.ipynb>data table notebook</a>'\n",
              "            + ' to learn more about interactive tables.';\n",
              "          element.innerHTML = '';\n",
              "          dataTable['output_type'] = 'display_data';\n",
              "          await google.colab.output.renderOutput(dataTable, element);\n",
              "          const docLink = document.createElement('div');\n",
              "          docLink.innerHTML = docLinkHtml;\n",
              "          element.appendChild(docLink);\n",
              "        }\n",
              "      </script>\n",
              "    </div>\n",
              "  </div>\n",
              "  "
            ]
          },
          "metadata": {},
          "execution_count": 45
        }
      ]
    },
    {
      "cell_type": "markdown",
      "source": [
        "## 6.Perform feature selection using L1"
      ],
      "metadata": {
        "id": "k0dcpkzlUHPe"
      }
    },
    {
      "cell_type": "code",
      "source": [
        "X_select = encoded_data.drop(\"SalePrice\",1) \n",
        "y_select = encoded_data[\"SalePrice\"]\n",
        "regressor=LassoCV()\n",
        "regressor.fit(X_select,y_select)"
      ],
      "metadata": {
        "colab": {
          "base_uri": "https://localhost:8080/"
        },
        "id": "CShJiD0NXmJE",
        "outputId": "7d0a4a08-a189-40b6-9dc3-0b4e54923e34"
      },
      "execution_count": 48,
      "outputs": [
        {
          "output_type": "stream",
          "name": "stderr",
          "text": [
            "/usr/local/lib/python3.7/dist-packages/ipykernel_launcher.py:1: FutureWarning: In a future version of pandas all arguments of DataFrame.drop except for the argument 'labels' will be keyword-only\n",
            "  \"\"\"Entry point for launching an IPython kernel.\n"
          ]
        },
        {
          "output_type": "execute_result",
          "data": {
            "text/plain": [
              "LassoCV()"
            ]
          },
          "metadata": {},
          "execution_count": 48
        }
      ]
    },
    {
      "cell_type": "code",
      "source": [
        "new_x = PowerTransformer().fit_transform(encoded_data)\n",
        "\n",
        "test_data = pd.DataFrame(new_x,columns=encoded_data.columns)\n",
        "test_data = pd.concat([test_data[ordinal],test_data[numerical],test_data[target]],axis=1)\n",
        "test_data"
      ],
      "metadata": {
        "colab": {
          "base_uri": "https://localhost:8080/",
          "height": 522
        },
        "id": "vGedImfbaCCc",
        "outputId": "170ca47e-8052-4643-84d7-8b44f45b8de8"
      },
      "execution_count": 49,
      "outputs": [
        {
          "output_type": "stream",
          "name": "stderr",
          "text": [
            "/usr/local/lib/python3.7/dist-packages/numpy/core/_methods.py:233: RuntimeWarning: overflow encountered in multiply\n",
            "  x = um.multiply(x, x, out=x)\n"
          ]
        },
        {
          "output_type": "execute_result",
          "data": {
            "text/plain": [
              "      GarageQual  Utilities  SaleType  FireplaceQu  SaleCondition  BsmtQual  \\\n",
              "0       0.232705   -0.02618  0.388981     1.129843       0.032281 -0.565973   \n",
              "1       0.232705   -0.02618  0.388981     1.129843       0.032281 -0.565973   \n",
              "2       0.232705   -0.02618  0.388981     1.129843       0.032281 -0.565973   \n",
              "3       0.232705   -0.02618  0.388981    -0.650597      -2.599251  1.002981   \n",
              "4       0.232705   -0.02618  0.388981     1.129843       0.032281 -0.565973   \n",
              "...          ...        ...       ...          ...            ...       ...   \n",
              "1455    0.232705   -0.02618  0.388981     1.129843       0.032281 -0.565973   \n",
              "1456    0.232705   -0.02618  0.388981     1.129843       0.032281 -0.565973   \n",
              "1457    0.232705   -0.02618  0.388981    -0.650597       0.032281  1.002981   \n",
              "1458    0.232705   -0.02618  0.388981    -2.921217       0.032281  1.002981   \n",
              "1459    0.232705   -0.02618  0.388981    -2.921217       0.032281  1.002981   \n",
              "\n",
              "      Exterior2nd  BsmtCond  RoofMatl  KitchenQual  ...  YearBuilt  \\\n",
              "0        0.759104  0.293783 -0.083091    -0.708836  ...   1.151867   \n",
              "1       -0.784551  0.293783 -0.083091     0.931869  ...   0.006695   \n",
              "2        0.759104  0.293783 -0.083091    -0.708836  ...   1.055357   \n",
              "3        1.500145 -3.405201 -0.083091    -0.708836  ...  -1.629540   \n",
              "4        0.759104  0.293783 -0.083091    -0.708836  ...   1.007861   \n",
              "...           ...       ...       ...          ...  ...        ...   \n",
              "1455     0.759104  0.293783 -0.083091     0.931869  ...   0.960863   \n",
              "1456    -0.222361  0.293783 -0.083091     0.931869  ...   0.080711   \n",
              "1457    -1.477095 -3.405201 -0.083091    -0.708836  ...  -1.061347   \n",
              "1458    -0.784551  0.293783 -0.083091    -0.708836  ...  -0.823991   \n",
              "1459    -1.267414  0.293783 -0.083091     0.931869  ...  -0.373250   \n",
              "\n",
              "      BsmtHalfBath  OpenPorchSF  EnclosedPorch  HalfBath  GarageArea  \\\n",
              "0        -0.243940     0.841820      -0.407595  1.284128    0.383899   \n",
              "1         4.099375    -1.071307      -0.407595 -0.773692   -0.004602   \n",
              "2        -0.243940     0.668453      -0.407595  1.284128    0.641990   \n",
              "3        -0.243940     0.584540       2.456640 -0.773692    0.786092   \n",
              "4        -0.243940     0.991895      -0.407595  1.284128    1.583257   \n",
              "...            ...          ...            ...       ...         ...   \n",
              "1455     -0.243940     0.645943      -0.407595  1.284128   -0.004602   \n",
              "1456     -0.243940    -1.071307      -0.407595 -0.773692    0.173581   \n",
              "1457     -0.243940     0.834100      -0.407595 -0.773692   -0.987927   \n",
              "1458     -0.243940    -1.071307       2.454153 -0.773692   -1.048544   \n",
              "1459     -0.243940     0.892639      -0.407595  1.284128   -0.868284   \n",
              "\n",
              "      BsmtUnfSF  2ndFlrSF    MoSold  SalePrice  \n",
              "0     -0.887576  1.170239 -1.694229   0.571155  \n",
              "1     -0.434388 -0.871454 -0.444891   0.227627  \n",
              "2     -0.048083  1.172896  0.987490   0.741869  \n",
              "3      0.183337  1.146834 -1.694229  -0.425386  \n",
              "4      0.077485  1.209630  1.963461   1.015293  \n",
              "...         ...       ...       ...        ...  \n",
              "1455   0.909505  1.130187  0.646025   0.136679  \n",
              "1456   0.282161 -0.871454 -1.694229   0.588812  \n",
              "1457   0.790731  1.226211 -0.444891   1.170202  \n",
              "1458  -2.064084 -0.871454 -0.838080  -0.387136  \n",
              "1459  -0.945776 -0.871454 -0.068307  -0.293072  \n",
              "\n",
              "[1460 rows x 73 columns]"
            ],
            "text/html": [
              "\n",
              "  <div id=\"df-6cc1a358-f830-41fc-9d89-ad5351fe28ee\">\n",
              "    <div class=\"colab-df-container\">\n",
              "      <div>\n",
              "<style scoped>\n",
              "    .dataframe tbody tr th:only-of-type {\n",
              "        vertical-align: middle;\n",
              "    }\n",
              "\n",
              "    .dataframe tbody tr th {\n",
              "        vertical-align: top;\n",
              "    }\n",
              "\n",
              "    .dataframe thead th {\n",
              "        text-align: right;\n",
              "    }\n",
              "</style>\n",
              "<table border=\"1\" class=\"dataframe\">\n",
              "  <thead>\n",
              "    <tr style=\"text-align: right;\">\n",
              "      <th></th>\n",
              "      <th>GarageQual</th>\n",
              "      <th>Utilities</th>\n",
              "      <th>SaleType</th>\n",
              "      <th>FireplaceQu</th>\n",
              "      <th>SaleCondition</th>\n",
              "      <th>BsmtQual</th>\n",
              "      <th>Exterior2nd</th>\n",
              "      <th>BsmtCond</th>\n",
              "      <th>RoofMatl</th>\n",
              "      <th>KitchenQual</th>\n",
              "      <th>...</th>\n",
              "      <th>YearBuilt</th>\n",
              "      <th>BsmtHalfBath</th>\n",
              "      <th>OpenPorchSF</th>\n",
              "      <th>EnclosedPorch</th>\n",
              "      <th>HalfBath</th>\n",
              "      <th>GarageArea</th>\n",
              "      <th>BsmtUnfSF</th>\n",
              "      <th>2ndFlrSF</th>\n",
              "      <th>MoSold</th>\n",
              "      <th>SalePrice</th>\n",
              "    </tr>\n",
              "  </thead>\n",
              "  <tbody>\n",
              "    <tr>\n",
              "      <th>0</th>\n",
              "      <td>0.232705</td>\n",
              "      <td>-0.02618</td>\n",
              "      <td>0.388981</td>\n",
              "      <td>1.129843</td>\n",
              "      <td>0.032281</td>\n",
              "      <td>-0.565973</td>\n",
              "      <td>0.759104</td>\n",
              "      <td>0.293783</td>\n",
              "      <td>-0.083091</td>\n",
              "      <td>-0.708836</td>\n",
              "      <td>...</td>\n",
              "      <td>1.151867</td>\n",
              "      <td>-0.243940</td>\n",
              "      <td>0.841820</td>\n",
              "      <td>-0.407595</td>\n",
              "      <td>1.284128</td>\n",
              "      <td>0.383899</td>\n",
              "      <td>-0.887576</td>\n",
              "      <td>1.170239</td>\n",
              "      <td>-1.694229</td>\n",
              "      <td>0.571155</td>\n",
              "    </tr>\n",
              "    <tr>\n",
              "      <th>1</th>\n",
              "      <td>0.232705</td>\n",
              "      <td>-0.02618</td>\n",
              "      <td>0.388981</td>\n",
              "      <td>1.129843</td>\n",
              "      <td>0.032281</td>\n",
              "      <td>-0.565973</td>\n",
              "      <td>-0.784551</td>\n",
              "      <td>0.293783</td>\n",
              "      <td>-0.083091</td>\n",
              "      <td>0.931869</td>\n",
              "      <td>...</td>\n",
              "      <td>0.006695</td>\n",
              "      <td>4.099375</td>\n",
              "      <td>-1.071307</td>\n",
              "      <td>-0.407595</td>\n",
              "      <td>-0.773692</td>\n",
              "      <td>-0.004602</td>\n",
              "      <td>-0.434388</td>\n",
              "      <td>-0.871454</td>\n",
              "      <td>-0.444891</td>\n",
              "      <td>0.227627</td>\n",
              "    </tr>\n",
              "    <tr>\n",
              "      <th>2</th>\n",
              "      <td>0.232705</td>\n",
              "      <td>-0.02618</td>\n",
              "      <td>0.388981</td>\n",
              "      <td>1.129843</td>\n",
              "      <td>0.032281</td>\n",
              "      <td>-0.565973</td>\n",
              "      <td>0.759104</td>\n",
              "      <td>0.293783</td>\n",
              "      <td>-0.083091</td>\n",
              "      <td>-0.708836</td>\n",
              "      <td>...</td>\n",
              "      <td>1.055357</td>\n",
              "      <td>-0.243940</td>\n",
              "      <td>0.668453</td>\n",
              "      <td>-0.407595</td>\n",
              "      <td>1.284128</td>\n",
              "      <td>0.641990</td>\n",
              "      <td>-0.048083</td>\n",
              "      <td>1.172896</td>\n",
              "      <td>0.987490</td>\n",
              "      <td>0.741869</td>\n",
              "    </tr>\n",
              "    <tr>\n",
              "      <th>3</th>\n",
              "      <td>0.232705</td>\n",
              "      <td>-0.02618</td>\n",
              "      <td>0.388981</td>\n",
              "      <td>-0.650597</td>\n",
              "      <td>-2.599251</td>\n",
              "      <td>1.002981</td>\n",
              "      <td>1.500145</td>\n",
              "      <td>-3.405201</td>\n",
              "      <td>-0.083091</td>\n",
              "      <td>-0.708836</td>\n",
              "      <td>...</td>\n",
              "      <td>-1.629540</td>\n",
              "      <td>-0.243940</td>\n",
              "      <td>0.584540</td>\n",
              "      <td>2.456640</td>\n",
              "      <td>-0.773692</td>\n",
              "      <td>0.786092</td>\n",
              "      <td>0.183337</td>\n",
              "      <td>1.146834</td>\n",
              "      <td>-1.694229</td>\n",
              "      <td>-0.425386</td>\n",
              "    </tr>\n",
              "    <tr>\n",
              "      <th>4</th>\n",
              "      <td>0.232705</td>\n",
              "      <td>-0.02618</td>\n",
              "      <td>0.388981</td>\n",
              "      <td>1.129843</td>\n",
              "      <td>0.032281</td>\n",
              "      <td>-0.565973</td>\n",
              "      <td>0.759104</td>\n",
              "      <td>0.293783</td>\n",
              "      <td>-0.083091</td>\n",
              "      <td>-0.708836</td>\n",
              "      <td>...</td>\n",
              "      <td>1.007861</td>\n",
              "      <td>-0.243940</td>\n",
              "      <td>0.991895</td>\n",
              "      <td>-0.407595</td>\n",
              "      <td>1.284128</td>\n",
              "      <td>1.583257</td>\n",
              "      <td>0.077485</td>\n",
              "      <td>1.209630</td>\n",
              "      <td>1.963461</td>\n",
              "      <td>1.015293</td>\n",
              "    </tr>\n",
              "    <tr>\n",
              "      <th>...</th>\n",
              "      <td>...</td>\n",
              "      <td>...</td>\n",
              "      <td>...</td>\n",
              "      <td>...</td>\n",
              "      <td>...</td>\n",
              "      <td>...</td>\n",
              "      <td>...</td>\n",
              "      <td>...</td>\n",
              "      <td>...</td>\n",
              "      <td>...</td>\n",
              "      <td>...</td>\n",
              "      <td>...</td>\n",
              "      <td>...</td>\n",
              "      <td>...</td>\n",
              "      <td>...</td>\n",
              "      <td>...</td>\n",
              "      <td>...</td>\n",
              "      <td>...</td>\n",
              "      <td>...</td>\n",
              "      <td>...</td>\n",
              "      <td>...</td>\n",
              "    </tr>\n",
              "    <tr>\n",
              "      <th>1455</th>\n",
              "      <td>0.232705</td>\n",
              "      <td>-0.02618</td>\n",
              "      <td>0.388981</td>\n",
              "      <td>1.129843</td>\n",
              "      <td>0.032281</td>\n",
              "      <td>-0.565973</td>\n",
              "      <td>0.759104</td>\n",
              "      <td>0.293783</td>\n",
              "      <td>-0.083091</td>\n",
              "      <td>0.931869</td>\n",
              "      <td>...</td>\n",
              "      <td>0.960863</td>\n",
              "      <td>-0.243940</td>\n",
              "      <td>0.645943</td>\n",
              "      <td>-0.407595</td>\n",
              "      <td>1.284128</td>\n",
              "      <td>-0.004602</td>\n",
              "      <td>0.909505</td>\n",
              "      <td>1.130187</td>\n",
              "      <td>0.646025</td>\n",
              "      <td>0.136679</td>\n",
              "    </tr>\n",
              "    <tr>\n",
              "      <th>1456</th>\n",
              "      <td>0.232705</td>\n",
              "      <td>-0.02618</td>\n",
              "      <td>0.388981</td>\n",
              "      <td>1.129843</td>\n",
              "      <td>0.032281</td>\n",
              "      <td>-0.565973</td>\n",
              "      <td>-0.222361</td>\n",
              "      <td>0.293783</td>\n",
              "      <td>-0.083091</td>\n",
              "      <td>0.931869</td>\n",
              "      <td>...</td>\n",
              "      <td>0.080711</td>\n",
              "      <td>-0.243940</td>\n",
              "      <td>-1.071307</td>\n",
              "      <td>-0.407595</td>\n",
              "      <td>-0.773692</td>\n",
              "      <td>0.173581</td>\n",
              "      <td>0.282161</td>\n",
              "      <td>-0.871454</td>\n",
              "      <td>-1.694229</td>\n",
              "      <td>0.588812</td>\n",
              "    </tr>\n",
              "    <tr>\n",
              "      <th>1457</th>\n",
              "      <td>0.232705</td>\n",
              "      <td>-0.02618</td>\n",
              "      <td>0.388981</td>\n",
              "      <td>-0.650597</td>\n",
              "      <td>0.032281</td>\n",
              "      <td>1.002981</td>\n",
              "      <td>-1.477095</td>\n",
              "      <td>-3.405201</td>\n",
              "      <td>-0.083091</td>\n",
              "      <td>-0.708836</td>\n",
              "      <td>...</td>\n",
              "      <td>-1.061347</td>\n",
              "      <td>-0.243940</td>\n",
              "      <td>0.834100</td>\n",
              "      <td>-0.407595</td>\n",
              "      <td>-0.773692</td>\n",
              "      <td>-0.987927</td>\n",
              "      <td>0.790731</td>\n",
              "      <td>1.226211</td>\n",
              "      <td>-0.444891</td>\n",
              "      <td>1.170202</td>\n",
              "    </tr>\n",
              "    <tr>\n",
              "      <th>1458</th>\n",
              "      <td>0.232705</td>\n",
              "      <td>-0.02618</td>\n",
              "      <td>0.388981</td>\n",
              "      <td>-2.921217</td>\n",
              "      <td>0.032281</td>\n",
              "      <td>1.002981</td>\n",
              "      <td>-0.784551</td>\n",
              "      <td>0.293783</td>\n",
              "      <td>-0.083091</td>\n",
              "      <td>-0.708836</td>\n",
              "      <td>...</td>\n",
              "      <td>-0.823991</td>\n",
              "      <td>-0.243940</td>\n",
              "      <td>-1.071307</td>\n",
              "      <td>2.454153</td>\n",
              "      <td>-0.773692</td>\n",
              "      <td>-1.048544</td>\n",
              "      <td>-2.064084</td>\n",
              "      <td>-0.871454</td>\n",
              "      <td>-0.838080</td>\n",
              "      <td>-0.387136</td>\n",
              "    </tr>\n",
              "    <tr>\n",
              "      <th>1459</th>\n",
              "      <td>0.232705</td>\n",
              "      <td>-0.02618</td>\n",
              "      <td>0.388981</td>\n",
              "      <td>-2.921217</td>\n",
              "      <td>0.032281</td>\n",
              "      <td>1.002981</td>\n",
              "      <td>-1.267414</td>\n",
              "      <td>0.293783</td>\n",
              "      <td>-0.083091</td>\n",
              "      <td>0.931869</td>\n",
              "      <td>...</td>\n",
              "      <td>-0.373250</td>\n",
              "      <td>-0.243940</td>\n",
              "      <td>0.892639</td>\n",
              "      <td>-0.407595</td>\n",
              "      <td>1.284128</td>\n",
              "      <td>-0.868284</td>\n",
              "      <td>-0.945776</td>\n",
              "      <td>-0.871454</td>\n",
              "      <td>-0.068307</td>\n",
              "      <td>-0.293072</td>\n",
              "    </tr>\n",
              "  </tbody>\n",
              "</table>\n",
              "<p>1460 rows × 73 columns</p>\n",
              "</div>\n",
              "      <button class=\"colab-df-convert\" onclick=\"convertToInteractive('df-6cc1a358-f830-41fc-9d89-ad5351fe28ee')\"\n",
              "              title=\"Convert this dataframe to an interactive table.\"\n",
              "              style=\"display:none;\">\n",
              "        \n",
              "  <svg xmlns=\"http://www.w3.org/2000/svg\" height=\"24px\"viewBox=\"0 0 24 24\"\n",
              "       width=\"24px\">\n",
              "    <path d=\"M0 0h24v24H0V0z\" fill=\"none\"/>\n",
              "    <path d=\"M18.56 5.44l.94 2.06.94-2.06 2.06-.94-2.06-.94-.94-2.06-.94 2.06-2.06.94zm-11 1L8.5 8.5l.94-2.06 2.06-.94-2.06-.94L8.5 2.5l-.94 2.06-2.06.94zm10 10l.94 2.06.94-2.06 2.06-.94-2.06-.94-.94-2.06-.94 2.06-2.06.94z\"/><path d=\"M17.41 7.96l-1.37-1.37c-.4-.4-.92-.59-1.43-.59-.52 0-1.04.2-1.43.59L10.3 9.45l-7.72 7.72c-.78.78-.78 2.05 0 2.83L4 21.41c.39.39.9.59 1.41.59.51 0 1.02-.2 1.41-.59l7.78-7.78 2.81-2.81c.8-.78.8-2.07 0-2.86zM5.41 20L4 18.59l7.72-7.72 1.47 1.35L5.41 20z\"/>\n",
              "  </svg>\n",
              "      </button>\n",
              "      \n",
              "  <style>\n",
              "    .colab-df-container {\n",
              "      display:flex;\n",
              "      flex-wrap:wrap;\n",
              "      gap: 12px;\n",
              "    }\n",
              "\n",
              "    .colab-df-convert {\n",
              "      background-color: #E8F0FE;\n",
              "      border: none;\n",
              "      border-radius: 50%;\n",
              "      cursor: pointer;\n",
              "      display: none;\n",
              "      fill: #1967D2;\n",
              "      height: 32px;\n",
              "      padding: 0 0 0 0;\n",
              "      width: 32px;\n",
              "    }\n",
              "\n",
              "    .colab-df-convert:hover {\n",
              "      background-color: #E2EBFA;\n",
              "      box-shadow: 0px 1px 2px rgba(60, 64, 67, 0.3), 0px 1px 3px 1px rgba(60, 64, 67, 0.15);\n",
              "      fill: #174EA6;\n",
              "    }\n",
              "\n",
              "    [theme=dark] .colab-df-convert {\n",
              "      background-color: #3B4455;\n",
              "      fill: #D2E3FC;\n",
              "    }\n",
              "\n",
              "    [theme=dark] .colab-df-convert:hover {\n",
              "      background-color: #434B5C;\n",
              "      box-shadow: 0px 1px 3px 1px rgba(0, 0, 0, 0.15);\n",
              "      filter: drop-shadow(0px 1px 2px rgba(0, 0, 0, 0.3));\n",
              "      fill: #FFFFFF;\n",
              "    }\n",
              "  </style>\n",
              "\n",
              "      <script>\n",
              "        const buttonEl =\n",
              "          document.querySelector('#df-6cc1a358-f830-41fc-9d89-ad5351fe28ee button.colab-df-convert');\n",
              "        buttonEl.style.display =\n",
              "          google.colab.kernel.accessAllowed ? 'block' : 'none';\n",
              "\n",
              "        async function convertToInteractive(key) {\n",
              "          const element = document.querySelector('#df-6cc1a358-f830-41fc-9d89-ad5351fe28ee');\n",
              "          const dataTable =\n",
              "            await google.colab.kernel.invokeFunction('convertToInteractive',\n",
              "                                                     [key], {});\n",
              "          if (!dataTable) return;\n",
              "\n",
              "          const docLinkHtml = 'Like what you see? Visit the ' +\n",
              "            '<a target=\"_blank\" href=https://colab.research.google.com/notebooks/data_table.ipynb>data table notebook</a>'\n",
              "            + ' to learn more about interactive tables.';\n",
              "          element.innerHTML = '';\n",
              "          dataTable['output_type'] = 'display_data';\n",
              "          await google.colab.output.renderOutput(dataTable, element);\n",
              "          const docLink = document.createElement('div');\n",
              "          docLink.innerHTML = docLinkHtml;\n",
              "          element.appendChild(docLink);\n",
              "        }\n",
              "      </script>\n",
              "    </div>\n",
              "  </div>\n",
              "  "
            ]
          },
          "metadata": {},
          "execution_count": 49
        }
      ]
    },
    {
      "cell_type": "code",
      "source": [
        "#print(regressor.coef_)\n",
        "coef_col = pd.Series(regressor.coef_,index=X_select.columns)\n",
        "\n",
        "#print(coef_col)\n",
        "sorted_coef = coef_col.sort_values()\n",
        "matplotlib.rcParams['figure.figsize']=(100.0,70.0)\n",
        "sorted_coef.plot(kind=\"barh\")\n",
        "\n",
        "no_of_selected_features = sum(coef_col != 0)\n",
        "no_of_rejected_features = sum(coef_col == 0)\n",
        "total_features = no_of_selected_features + no_of_rejected_features\n",
        "print(\"L1 selected only \",no_of_selected_features,\" features out of \",total_features,\" from the transformed dataset \")\n",
        "plt.title(\"Feature Selection Using L1 Embedder\")"
      ],
      "metadata": {
        "colab": {
          "base_uri": "https://localhost:8080/",
          "height": 628
        },
        "id": "Ujaxsqf7aL_p",
        "outputId": "d05130f6-f040-4aae-a826-36317c9ca7c1"
      },
      "execution_count": 50,
      "outputs": [
        {
          "output_type": "stream",
          "name": "stdout",
          "text": [
            "L1 selected only  11  features out of  110  from the transformed dataset \n"
          ]
        },
        {
          "output_type": "execute_result",
          "data": {
            "text/plain": [
              "Text(0.5, 1.0, 'Feature Selection Using L1 Embedder')"
            ]
          },
          "metadata": {},
          "execution_count": 50
        },
        {
          "output_type": "display_data",
          "data": {
            "text/plain": [
              "<Figure size 7200x5040 with 1 Axes>"
            ],
            "image/png": "[encoded data removed]"
          },
          "metadata": {
            "needs_background": "light"
          }
        }
      ]
    },
    {
      "cell_type": "markdown",
      "source": [
        "## 7.Train a regression model using PCA with 2 components"
      ],
      "metadata": {
        "id": "FBtq1IXVULti"
      }
    },
    {
      "cell_type": "code",
      "source": [
        "reg=LassoCV()"
      ],
      "metadata": {
        "id": "eQzzVPNbc4ES"
      },
      "execution_count": 51,
      "outputs": []
    },
    {
      "cell_type": "code",
      "source": [
        "reg.fit(p_components,y)"
      ],
      "metadata": {
        "colab": {
          "base_uri": "https://localhost:8080/"
        },
        "id": "Ve_fzzK9c546",
        "outputId": "88f05436-c4aa-41f1-9538-fe78d8e1772a"
      },
      "execution_count": 52,
      "outputs": [
        {
          "output_type": "stream",
          "name": "stderr",
          "text": [
            "/usr/local/lib/python3.7/dist-packages/sklearn/linear_model/_coordinate_descent.py:1571: DataConversionWarning: A column-vector y was passed when a 1d array was expected. Please change the shape of y to (n_samples, ), for example using ravel().\n",
            "  y = column_or_1d(y, warn=True)\n"
          ]
        },
        {
          "output_type": "execute_result",
          "data": {
            "text/plain": [
              "LassoCV()"
            ]
          },
          "metadata": {},
          "execution_count": 52
        }
      ]
    },
    {
      "cell_type": "code",
      "source": [
        "reg.coef_"
      ],
      "metadata": {
        "colab": {
          "base_uri": "https://localhost:8080/"
        },
        "id": "CSPjVNkLc8lP",
        "outputId": "54332c8e-478a-4721-a8b8-d771ae1686d2"
      },
      "execution_count": 53,
      "outputs": [
        {
          "output_type": "execute_result",
          "data": {
            "text/plain": [
              "array([0.25351582, 0.01758882])"
            ]
          },
          "metadata": {},
          "execution_count": 53
        }
      ]
    },
    {
      "cell_type": "code",
      "source": [
        "reg.intercept_"
      ],
      "metadata": {
        "colab": {
          "base_uri": "https://localhost:8080/"
        },
        "id": "W1IlHyp0c-lA",
        "outputId": "e68e7627-4c2e-4678-9b26-c55c5d9430c2"
      },
      "execution_count": 54,
      "outputs": [
        {
          "output_type": "execute_result",
          "data": {
            "text/plain": [
              "1.8839274210994545e-16"
            ]
          },
          "metadata": {},
          "execution_count": 54
        }
      ]
    },
    {
      "cell_type": "markdown",
      "source": [
        "### Example Plot"
      ],
      "metadata": {
        "id": "XMm7eZ2DdPpP"
      }
    },
    {
      "cell_type": "code",
      "source": [
        "final_data_array=final_data.to_numpy()"
      ],
      "metadata": {
        "id": "T51LwrAYdT1B"
      },
      "execution_count": 55,
      "outputs": []
    },
    {
      "cell_type": "code",
      "source": [
        "min_val = np.min(final_data_array, axis=0)\n",
        "max_val = np.max(final_data_array, axis=0)\n",
        "X_plot,Y_plot = np.meshgrid(np.linspace(min_val[0], max_val[0], 20), np.linspace(min_val[1], max_val[1], 20))"
      ],
      "metadata": {
        "id": "yOoNnog2dVcq"
      },
      "execution_count": 56,
      "outputs": []
    },
    {
      "cell_type": "code",
      "source": [
        "w_1 = reg.coef_[0]\n",
        "w_2 = reg.coef_[1]\n",
        "b = reg.intercept_\n",
        "Z_plot = w_1*X_plot + w_2*Y_plot + b"
      ],
      "metadata": {
        "id": "vSb5GkqedXP_"
      },
      "execution_count": 57,
      "outputs": []
    },
    {
      "cell_type": "code",
      "source": [
        "w_2"
      ],
      "metadata": {
        "colab": {
          "base_uri": "https://localhost:8080/"
        },
        "id": "TEYVvYmNdctk",
        "outputId": "c903d9a8-e3f8-4672-e6ff-e2d69a35f239"
      },
      "execution_count": 58,
      "outputs": [
        {
          "output_type": "execute_result",
          "data": {
            "text/plain": [
              "0.01758881627842865"
            ]
          },
          "metadata": {},
          "execution_count": 58
        }
      ]
    },
    {
      "cell_type": "code",
      "source": [
        "fig1 =  plt.figure(figsize=(10, 10))\n",
        "ax = fig1.gca(projection='3d')\n",
        "ax.plot_surface(X_plot, Y_plot, Z_plot, rstride=1, cstride=1, alpha=0.9)\n",
        "ax.scatter(final_data_array[:,0], final_data_array[:,1], final_data_array[:,2], c='r', s=50)\n",
        "plt.xlabel('PC1')\n",
        "plt.ylabel('PC2')\n",
        "ax.set_zlabel('House Price in $')\n",
        "ax.set_title(\"Plane of Best Fit\")"
      ],
      "metadata": {
        "colab": {
          "base_uri": "https://localhost:8080/",
          "height": 592
        },
        "id": "neolUX8TdedM",
        "outputId": "cae47207-9c4b-424c-b1d4-5f4d97743d8d"
      },
      "execution_count": 59,
      "outputs": [
        {
          "output_type": "execute_result",
          "data": {
            "text/plain": [
              "Text(0.5, 0.92, 'Plane of Best Fit')"
            ]
          },
          "metadata": {},
          "execution_count": 59
        },
        {
          "output_type": "display_data",
          "data": {
            "text/plain": [
              "<Figure size 720x720 with 1 Axes>"
            ],
            "image/png": "[encoded data removed]"
          },
          "metadata": {
            "needs_background": "light"
          }
        }
      ]
    },
    {
      "cell_type": "markdown",
      "source": [
        "### Splitting the data"
      ],
      "metadata": {
        "id": "-m-2AGQMdm8g"
      }
    },
    {
      "cell_type": "code",
      "source": [
        "X_train, X_test, y_train, y_test = train_test_split(p_components,y,test_size=0.3,random_state=101)"
      ],
      "metadata": {
        "id": "7ySfJTCNdq3i"
      },
      "execution_count": 60,
      "outputs": []
    },
    {
      "cell_type": "code",
      "source": [
        "y_train"
      ],
      "metadata": {
        "colab": {
          "base_uri": "https://localhost:8080/"
        },
        "id": "W5rRRSXGd-Rs",
        "outputId": "1c18b172-5298-41fd-84db-870fc3ea3c14"
      },
      "execution_count": 61,
      "outputs": [
        {
          "output_type": "execute_result",
          "data": {
            "text/plain": [
              "array([[ 1.52462833],\n",
              "       [-0.69786554],\n",
              "       [ 0.65791868],\n",
              "       ...,\n",
              "       [-0.3767687 ],\n",
              "       [ 0.99576293],\n",
              "       [-0.60972131]])"
            ]
          },
          "metadata": {},
          "execution_count": 61
        }
      ]
    },
    {
      "cell_type": "code",
      "source": [
        "y_test"
      ],
      "metadata": {
        "colab": {
          "base_uri": "https://localhost:8080/"
        },
        "id": "N0R1no2geDjp",
        "outputId": "87070469-a10a-4d28-ae3e-be129ef22b5b"
      },
      "execution_count": 62,
      "outputs": [
        {
          "output_type": "execute_result",
          "data": {
            "text/plain": [
              "array([[ 9.32802768e-01],\n",
              "       [-4.52320895e-01],\n",
              "       [-3.83064712e-01],\n",
              "       [ 2.91604801e+00],\n",
              "       [ 2.79467340e+00],\n",
              "       [-8.55265960e-01],\n",
              "       [-5.65649195e-01],\n",
              "       [-4.62998939e-01],\n",
              "       [-4.49172887e-01],\n",
              "       [-5.78241228e-01],\n",
              "       [-8.77302019e-01],\n",
              "       [-5.15281061e-01],\n",
              "       [-6.53793428e-01],\n",
              "       [-1.43816079e-01],\n",
              "       [-2.76032429e-01],\n",
              "       [-2.88624462e-01],\n",
              "       [-7.79713761e-01],\n",
              "       [-6.78977494e-01],\n",
              "       [-7.45598958e-02],\n",
              "       [ 4.52253001e-01],\n",
              "       [-3.26400562e-01],\n",
              "       [-1.83870376e+00],\n",
              "       [-2.16733560e-02],\n",
              "       [-3.95656745e-01],\n",
              "       [ 8.44658535e-01],\n",
              "       [-2.63440395e-01],\n",
              "       [-6.97865544e-01],\n",
              "       [-2.94920479e-01],\n",
              "       [-1.95443416e-01],\n",
              "       [-1.10710663e+00],\n",
              "       [ 3.47273220e-01],\n",
              "       [-1.56408112e-01],\n",
              "       [-8.71519291e-02],\n",
              "       [ 1.37352393e+00],\n",
              "       [-1.78329881e+00],\n",
              "       [-8.94301264e-01],\n",
              "       [ 2.58550714e+00],\n",
              "       [ 2.40240937e-01],\n",
              "       [-6.54423029e-01],\n",
              "       [-1.10710663e+00],\n",
              "       [ 1.09649920e+00],\n",
              "       [ 1.39504670e-01],\n",
              "       [ 5.36153719e-01],\n",
              "       [ 8.28405204e-02],\n",
              "       [-9.24522144e-01],\n",
              "       [-1.87888196e-01],\n",
              "       [ 1.54322677e+00],\n",
              "       [-1.15484004e-01],\n",
              "       [-8.55265960e-01],\n",
              "       [-1.08192256e+00],\n",
              "       [-7.16753594e-01],\n",
              "       [ 7.94290402e-01],\n",
              "       [-6.41201394e-01],\n",
              "       [-9.97439624e-02],\n",
              "       [-9.97439624e-02],\n",
              "       [-5.78241228e-01],\n",
              "       [ 2.13797667e-01],\n",
              "       [ 4.92081603e-01],\n",
              "       [ 3.87684039e-02],\n",
              "       [ 5.55041769e-01],\n",
              "       [ 1.14320604e-01],\n",
              "       [-4.22100015e-01],\n",
              "       [-4.52320895e-01],\n",
              "       [-1.18265883e+00],\n",
              "       [-8.67857994e-01],\n",
              "       [-2.41917626e-02],\n",
              "       [-1.15117874e+00],\n",
              "       [ 7.31330235e-01],\n",
              "       [-2.88624462e-01],\n",
              "       [-1.28589327e-02],\n",
              "       [-5.30371268e-03],\n",
              "       [-6.09721311e-01],\n",
              "       [ 3.28385170e-01],\n",
              "       [-3.45288612e-01],\n",
              "       [-8.17489861e-01],\n",
              "       [-1.01896239e+00],\n",
              "       [ 3.19570746e-01],\n",
              "       [ 8.69842602e-01],\n",
              "       [ 1.52462833e+00],\n",
              "       [-3.01216495e-01],\n",
              "       [ 2.47439504e+00],\n",
              "       [-4.52320895e-01],\n",
              "       [-8.67857994e-01],\n",
              "       [ 3.24723872e-02],\n",
              "       [-6.19678625e-02],\n",
              "       [ 1.69776879e+00],\n",
              "       [-1.15997293e-02],\n",
              "       [-5.15281061e-01],\n",
              "       [-8.67857994e-01],\n",
              "       [ 1.85202120e+00],\n",
              "       [ 2.08760853e-01],\n",
              "       [-4.30798126e-02],\n",
              "       [-3.79916703e-01],\n",
              "       [-4.77504961e-01],\n",
              "       [-5.15281061e-01],\n",
              "       [ 6.18001936e-01],\n",
              "       [-6.91569528e-01],\n",
              "       [-5.27873095e-01],\n",
              "       [-8.71519291e-02],\n",
              "       [ 4.27862233e-01],\n",
              "       [-2.01739432e-01],\n",
              "       [ 1.75002573e+00],\n",
              "       [-9.18226127e-01],\n",
              "       [-2.69736412e-01],\n",
              "       [ 4.03937370e-01],\n",
              "       [ 1.01728570e-01],\n",
              "       [-2.26923499e-01],\n",
              "       [ 2.90609070e-01],\n",
              "       [ 1.14320604e-01],\n",
              "       [-5.15281061e-01],\n",
              "       [ 1.37352393e+00],\n",
              "       [ 3.34681186e-01],\n",
              "       [ 4.92081603e-01],\n",
              "       [-3.26400562e-01],\n",
              "       [-4.90096995e-01],\n",
              "       [ 1.89872803e-01],\n",
              "       [-6.16017328e-01],\n",
              "       [ 3.07181146e+00],\n",
              "       [-5.78241228e-01],\n",
              "       [-1.98591424e-01],\n",
              "       [-6.16017328e-01],\n",
              "       [ 6.99850152e-01],\n",
              "       [-1.50112096e-01],\n",
              "       [ 2.65791133e+00],\n",
              "       [-3.13808529e-01],\n",
              "       [ 6.93554136e-01],\n",
              "       [ 2.40240937e-01],\n",
              "       [-4.14544795e-01],\n",
              "       [-1.17636281e+00],\n",
              "       [-6.66385461e-01],\n",
              "       [-5.02689028e-01],\n",
              "       [ 1.81802271e+00],\n",
              "       [-4.90096995e-01],\n",
              "       [ 3.78753303e-01],\n",
              "       [-6.19678625e-02],\n",
              "       [ 1.03901657e+00],\n",
              "       [-1.01896239e+00],\n",
              "       [-1.13229069e+00],\n",
              "       [ 6.43186002e-01],\n",
              "       [-3.67837959e-02],\n",
              "       [-6.78977494e-01],\n",
              "       [ 3.87684039e-02],\n",
              "       [-1.08192256e+00],\n",
              "       [-8.61561977e-01],\n",
              "       [-2.25664295e-01],\n",
              "       [-8.93042060e-01],\n",
              "       [ 2.02464837e-01],\n",
              "       [-1.19525086e+00],\n",
              "       [-4.78096787e-01],\n",
              "       [-7.35641644e-01],\n",
              "       [-1.13229069e+00],\n",
              "       [ 5.55041769e-01],\n",
              "       [ 5.76564538e-02],\n",
              "       [-8.36377911e-01],\n",
              "       [ 9.39098785e-01],\n",
              "       [-3.26400562e-01],\n",
              "       [ 8.69842602e-01],\n",
              "       [ 6.18001936e-01],\n",
              "       [-9.93778327e-01],\n",
              "       [-2.00480229e-01],\n",
              "       [ 1.69462078e+00],\n",
              "       [-4.08248778e-01],\n",
              "       [-8.86746044e-01],\n",
              "       [-2.63440395e-01],\n",
              "       [-6.78977494e-01],\n",
              "       [ 1.33574783e+00],\n",
              "       [-8.93042060e-01],\n",
              "       [ 1.64425265e+00],\n",
              "       [ 4.10107466e-01],\n",
              "       [-1.23302696e+00],\n",
              "       [-5.78241228e-01],\n",
              "       [-1.26450704e+00],\n",
              "       [-6.12869319e-01],\n",
              "       [ 9.03564067e-01],\n",
              "       [-1.15997293e-02],\n",
              "       [-6.32270659e-02],\n",
              "       [ 6.68370069e-01],\n",
              "       [ 2.47532685e+00],\n",
              "       [ 5.17265669e-01],\n",
              "       [ 4.03937370e-01],\n",
              "       [-2.41917626e-02],\n",
              "       [-1.83352844e+00],\n",
              "       [ 1.26912637e-01],\n",
              "       [ 9.57986835e-01],\n",
              "       [ 5.13604372e-02],\n",
              "       [-8.36327542e-01],\n",
              "       [ 7.65445038e-02],\n",
              "       [ 9.95762935e-01],\n",
              "       [-4.29655235e-01],\n",
              "       [-5.53057161e-01],\n",
              "       [ 4.85785586e-01],\n",
              "       [ 1.43648410e+00],\n",
              "       [-1.01896239e+00],\n",
              "       [-9.68594260e-01],\n",
              "       [ 1.17205140e+00],\n",
              "       [-3.67837959e-02],\n",
              "       [ 5.23561686e-01],\n",
              "       [-1.61708398e+00],\n",
              "       [ 5.06214602e+00],\n",
              "       [-1.01896239e+00],\n",
              "       [-1.54153178e+00],\n",
              "       [ 4.92081603e-01],\n",
              "       [-5.30371268e-03],\n",
              "       [-6.41201394e-01],\n",
              "       [ 2.41236668e+00],\n",
              "       [-1.14488273e+00],\n",
              "       [ 1.70984754e-01],\n",
              "       [ 1.11538725e+00],\n",
              "       [-7.46974474e-01],\n",
              "       [-1.77448439e+00],\n",
              "       [-5.15281061e-01],\n",
              "       [-3.64176662e-01],\n",
              "       [ 1.96168820e-01],\n",
              "       [-9.44669397e-01],\n",
              "       [ 9.45394802e-01],\n",
              "       [-4.52320895e-01],\n",
              "       [ 9.49172412e-01],\n",
              "       [-5.66908398e-01],\n",
              "       [-4.52320895e-01],\n",
              "       [-5.27873095e-01],\n",
              "       [-6.89365922e-01],\n",
              "       [-1.58560389e+00],\n",
              "       [-5.46761145e-01],\n",
              "       [-1.02451250e-01],\n",
              "       [-8.93042060e-01],\n",
              "       [-5.84537245e-01],\n",
              "       [-6.22313344e-01],\n",
              "       [-1.94184212e-01],\n",
              "       [-4.64912928e-01],\n",
              "       [ 1.68597006e+00],\n",
              "       [-4.52320895e-01],\n",
              "       [ 2.24363343e+00],\n",
              "       [-1.05673849e+00],\n",
              "       [-4.83800978e-01],\n",
              "       [ 4.16529403e-01],\n",
              "       [-5.27873095e-01],\n",
              "       [ 1.51833232e+00],\n",
              "       [-5.53057161e-01],\n",
              "       [ 1.13691002e-01],\n",
              "       [ 1.67219736e-01],\n",
              "       [-4.52320895e-01],\n",
              "       [-1.66365426e-02],\n",
              "       [-7.16753594e-01],\n",
              "       [-1.27080306e+00],\n",
              "       [ 1.94016543e+00],\n",
              "       [-3.97545550e-01],\n",
              "       [ 8.26752664e-01],\n",
              "       [-1.28339509e+00],\n",
              "       [ 4.85785586e-01],\n",
              "       [ 9.89466918e-01],\n",
              "       [-2.06776245e-01],\n",
              "       [-9.18226127e-01],\n",
              "       [ 8.95026668e-01],\n",
              "       [-8.04897827e-01],\n",
              "       [-7.77195354e-01],\n",
              "       [-3.15067732e-01],\n",
              "       [ 1.26912637e-01],\n",
              "       [-5.53057161e-01],\n",
              "       [-2.63440395e-01],\n",
              "       [ 7.31330235e-01],\n",
              "       [ 1.05319520e+00],\n",
              "       [-2.69736412e-01],\n",
              "       [-7.67121727e-01],\n",
              "       [-5.80759635e-01],\n",
              "       [-6.53793428e-01],\n",
              "       [-5.02689028e-01],\n",
              "       [ 1.72610087e+00],\n",
              "       [ 4.16529403e-01],\n",
              "       [ 5.13604372e-02],\n",
              "       [-7.04161561e-01],\n",
              "       [-1.32117119e+00],\n",
              "       [-1.28589327e-02],\n",
              "       [ 1.07105070e+00],\n",
              "       [-6.03425294e-01],\n",
              "       [-5.27873095e-01],\n",
              "       [-3.40251798e-01],\n",
              "       [-1.73920646e-02],\n",
              "       [ 3.91345336e-01],\n",
              "       [-6.34905378e-01],\n",
              "       [ 8.28405204e-02],\n",
              "       [ 1.14320604e-01],\n",
              "       [ 3.70305009e+00],\n",
              "       [ 2.66420735e+00],\n",
              "       [-4.64912928e-01],\n",
              "       [-2.82328445e-01],\n",
              "       [-6.60089444e-01],\n",
              "       [-6.60089444e-01],\n",
              "       [-6.42460598e-01],\n",
              "       [-1.62704129e-01],\n",
              "       [ 1.31056377e+00],\n",
              "       [ 1.32315580e+00],\n",
              "       [-2.63440395e-01],\n",
              "       [ 7.81698369e-01],\n",
              "       [ 5.10969653e-01],\n",
              "       [-5.15281061e-01],\n",
              "       [-6.53793428e-01],\n",
              "       [-8.16860259e-01],\n",
              "       [ 1.62536460e+00],\n",
              "       [-7.45598958e-02],\n",
              "       [-6.41201394e-01],\n",
              "       [-8.99338077e-01],\n",
              "       [-2.76032429e-01],\n",
              "       [ 1.26912637e-01],\n",
              "       [-8.30081894e-01],\n",
              "       [-4.27136828e-01],\n",
              "       [-8.30081894e-01],\n",
              "       [ 1.29120981e+00],\n",
              "       [ 4.03937370e-01],\n",
              "       [-5.15281061e-01],\n",
              "       [-3.26400562e-01],\n",
              "       [-1.00637036e+00],\n",
              "       [-7.67121727e-01],\n",
              "       [ 1.11903894e+00],\n",
              "       [ 4.41713469e-01],\n",
              "       [ 1.14686733e+00],\n",
              "       [-6.28609361e-01],\n",
              "       [-9.81186293e-01],\n",
              "       [-3.13808529e-01],\n",
              "       [-1.10836583e+00],\n",
              "       [-1.32746721e+00],\n",
              "       [-8.30081894e-01],\n",
              "       [-1.09451459e+00],\n",
              "       [-6.66385461e-01],\n",
              "       [-2.14331465e-01],\n",
              "       [-5.15281061e-01],\n",
              "       [-1.24928029e-01],\n",
              "       [-5.16540265e-01],\n",
              "       [-5.15281061e-01],\n",
              "       [-1.04414646e+00],\n",
              "       [ 2.26389700e-01],\n",
              "       [-8.67857994e-01],\n",
              "       [ 3.08604046e+00],\n",
              "       [ 5.88788418e-01],\n",
              "       [-1.37520062e-01],\n",
              "       [-3.40251798e-01],\n",
              "       [-3.64176662e-01],\n",
              "       [-5.21577078e-01],\n",
              "       [-4.64912928e-01],\n",
              "       [-9.24522144e-01],\n",
              "       [-1.21413891e+00],\n",
              "       [ 4.92081603e-01],\n",
              "       [ 6.36889986e-01],\n",
              "       [ 3.03201103e-01],\n",
              "       [-7.29345627e-01],\n",
              "       [-8.55265960e-01],\n",
              "       [-3.64176662e-01],\n",
              "       [-3.51584628e-01],\n",
              "       [ 7.02484871e-02],\n",
              "       [-6.78977494e-01],\n",
              "       [ 1.19093945e+00],\n",
              "       [ 6.80962102e-01],\n",
              "       [ 2.08760853e-01],\n",
              "       [-5.15281061e-01],\n",
              "       [-4.52320895e-01],\n",
              "       [ 1.14320604e-01],\n",
              "       [-6.53793428e-01],\n",
              "       [ 7.02484871e-02],\n",
              "       [-3.35214985e-01],\n",
              "       [-5.78241228e-01],\n",
              "       [-5.78241228e-01],\n",
              "       [ 3.34681186e-01],\n",
              "       [ 3.34681186e-01],\n",
              "       [ 1.77280770e-01],\n",
              "       [-4.39728862e-01],\n",
              "       [ 1.18426567e+00],\n",
              "       [-2.00480229e-01],\n",
              "       [-3.89360728e-01],\n",
              "       [-1.19525086e+00],\n",
              "       [-1.27080306e+00],\n",
              "       [-7.92305794e-01],\n",
              "       [-5.15910663e-01],\n",
              "       [-1.27206226e+00],\n",
              "       [-5.15281061e-01],\n",
              "       [ 9.45394802e-01],\n",
              "       [-9.34479458e-02],\n",
              "       [-3.26400562e-01],\n",
              "       [-3.38992595e-01],\n",
              "       [-6.09721311e-01],\n",
              "       [-1.62704129e-01],\n",
              "       [ 2.40240937e-01],\n",
              "       [ 1.13427530e+00],\n",
              "       [-5.02689028e-01],\n",
              "       [-7.29345627e-01],\n",
              "       [-1.18265883e+00],\n",
              "       [-5.46761145e-01],\n",
              "       [ 2.37962739e+00],\n",
              "       [ 1.91709683e+00],\n",
              "       [ 2.78383166e+00],\n",
              "       [ 5.17265669e-01],\n",
              "       [-3.13808529e-01],\n",
              "       [ 2.03640634e+00],\n",
              "       [-8.99338077e-01],\n",
              "       [ 6.18001936e-01],\n",
              "       [ 1.09649920e+00],\n",
              "       [-5.59353178e-01],\n",
              "       [-1.24928029e-01],\n",
              "       [-4.93758292e-02],\n",
              "       [-1.15997293e-02],\n",
              "       [ 7.22881942e+00],\n",
              "       [ 3.03201103e-01],\n",
              "       [ 8.69842602e-01],\n",
              "       [-9.40262185e-01],\n",
              "       [-7.60825711e-01],\n",
              "       [ 6.05409902e-01],\n",
              "       [ 2.49171672e-02],\n",
              "       [ 1.21612352e+00],\n",
              "       [-3.26400562e-01],\n",
              "       [ 1.70847202e+00],\n",
              "       [ 1.75128493e+00],\n",
              "       [-2.04257839e-01],\n",
              "       [-5.78241228e-01],\n",
              "       [ 7.43922269e-01],\n",
              "       [-3.45288612e-01],\n",
              "       [-3.78027898e-01],\n",
              "       [-1.62704129e-01],\n",
              "       [ 6.08044621e-02],\n",
              "       [-1.58180605e-02],\n",
              "       [ 1.00079975e+00],\n",
              "       [-8.71519291e-02],\n",
              "       [-4.77504961e-01],\n",
              "       [-9.30818160e-01],\n",
              "       [-3.67837959e-02],\n",
              "       [-4.52320895e-01],\n",
              "       [ 1.04779322e+00],\n",
              "       [-1.57310000e+00],\n",
              "       [ 2.44384676e+00],\n",
              "       [-1.23302696e+00],\n",
              "       [-3.90619932e-01],\n",
              "       [-6.22313344e-01],\n",
              "       [-3.26400562e-01],\n",
              "       [-5.59353178e-01],\n",
              "       [ 4.16529403e-01],\n",
              "       [-1.69000146e-01],\n",
              "       [ 1.20982750e+00],\n",
              "       [-4.33432845e-01],\n",
              "       [ 3.15163535e-01],\n",
              "       [-8.55265960e-01],\n",
              "       [ 8.91365371e-02]])"
            ]
          },
          "metadata": {},
          "execution_count": 62
        }
      ]
    },
    {
      "cell_type": "markdown",
      "source": [
        "### Train a regression model"
      ],
      "metadata": {
        "id": "ufzI7s66eFOz"
      }
    },
    {
      "cell_type": "code",
      "source": [
        "LinearRegression=linear_model.LinearRegression()\n",
        "LinearRegression.fit(X_train , y_train)\n",
        "accuracy = LinearRegression.score(X_test , y_test)\n",
        "result=[accuracy]\n",
        "result"
      ],
      "metadata": {
        "colab": {
          "base_uri": "https://localhost:8080/"
        },
        "id": "sda0nJINeUAJ",
        "outputId": "22d9a8df-9e31-4c27-8a19-982a1f69970f"
      },
      "execution_count": 63,
      "outputs": [
        {
          "output_type": "execute_result",
          "data": {
            "text/plain": [
              "[0.6681421734700494]"
            ]
          },
          "metadata": {},
          "execution_count": 63
        }
      ]
    }
  ]
}